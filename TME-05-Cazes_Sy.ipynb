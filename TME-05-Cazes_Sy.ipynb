{
 "cells": [
  {
   "cell_type": "markdown",
   "metadata": {},
   "source": [
    "IA & Data science (3i026) -- 2018-2019\n",
    "--------\n",
    "*&copy; Equipe pédagogique: Manon Ansart, Vincent Guigue, Marie-Jeanne Lesot, Christophe Marsala, Olivier Schwander.*"
   ]
  },
  {
   "cell_type": "markdown",
   "metadata": {},
   "source": [
    "# TD-TME05: les arbres de décision\n",
    "\n",
    "L'objectif de ce TP est d'implémenter un algorithme d'apprentissage supervisé, l'algorithme de construction d'arbres de décision vu en cours.\n",
    "\n",
    "Dans un premier temps, nous allons nous restreindre à un cas binaire où les classes sont étiquetées $+1$ ou $-1$. De plus, nous allons ne considérer que le cas où les attributs sont tous numériques et on ne construit que des arbres avec des noeuds binaires (ie. qui ne contiennent que 2 branches sortantes)."
   ]
  },
  {
   "cell_type": "markdown",
   "metadata": {},
   "source": [
    "<font size=\"+1\" color=\"RED\">**[Q]**</font> **Indiquer dans la boîte ci-dessous vos noms et prénoms :**"
   ]
  },
  {
   "cell_type": "markdown",
   "metadata": {},
   "source": [
    "CAZES Hadrien & SY Virak Bot Baramy"
   ]
  },
  {
   "cell_type": "markdown",
   "metadata": {},
   "source": [
    "<font color=\"RED\" size=\"+1\">**[Q]**</font> **Renommer ce fichier ipython**\n",
    "\n",
    "Tout en haut de cette page, cliquer sur <tt>tme-05</tt> et rajouter à la suite de <tt>tme-05</tt> les noms des membres du binômes séparés par un tiret."
   ]
  },
  {
   "cell_type": "markdown",
   "metadata": {},
   "source": [
    "<font color=\"RED\" size=\"+1\">IMPORTANT: soumission de votre fichier final</font>\n",
    "\n",
    "**Nom à donner au fichier à poster** : *tme-05-Nom1_Nom2.ipynb* \n",
    "- *Nom1* et *Nom2* : noms des membres du binôme\n",
    "- ne pas compresser ou faire une archive: il faut rendre le notebook tel quel, éventuellement, si vous avez d'autres fichiers vous les rendez séparément.\n",
    "\n",
    "**Echancier pour la soumission de votre compte-rendu:**\n",
    "- le compte-rendu d'une séance doit être remis obligatoirement <font color=\"RED\">** à la fin de la séance**</font>. C'est ce compte-rendu qui donne la note de base de la séance.\n",
    "- vous pouvez éventuellement compléter votre compte-rendu  pour obtenir des points bonus, dans ce cas, vous devez soumettre votre complément avant le début de la semaine suivante.\n",
    "\n",
    "** Sur la page Moodle de remise du travail <font color=\"RED\">ne pas oublier d'envoyer le compte rendu</font>** à la fin de la séance, la soumission de la version complémentaire post-séance se fera sur une page différente."
   ]
  },
  {
   "cell_type": "markdown",
   "metadata": {},
   "source": [
    "## Mise à jour de votre librairie IADS\n",
    "\n",
    "Comme lors des séances précédentes, vous devez utiliser les fonctions de la librairie IADS.\n",
    "\n",
    "<font color=\"RED\" size=\"+1\">**[Q]**</font> **Ouvrir et compléter les fichiers Classifiers.py et utils.py**\n",
    "\n",
    "Rajouter dans la librairie les fonctions et classes et que vous avez écrites lors de la séance précédente. \n",
    "\n",
    "**Rappel**: dans un premier temps, vous devez écrire les classes et fonctions demandées dans le notebook de la séance de TDTME en cours. Lors de la séance suivante, vous rajouterez tout cela, une fois que vous l'aurez bien testé, dans vos fichiers de la librairie IADS.\n",
    "\n"
   ]
  },
  {
   "cell_type": "code",
   "execution_count": 1,
   "metadata": {},
   "outputs": [],
   "source": [
    "import numpy as np\n",
    "import pandas as pd\n",
    "import matplotlib.pyplot as plt\n",
    "%matplotlib inline\n",
    "import math\n",
    "\n",
    "# La ligne suivante permet de préciser le chemin d'accès à la librairie iads\n",
    "import sys\n",
    "sys.path.append('../')\n",
    "\n",
    "# Importation de la librairie iads\n",
    "import iads as iads\n",
    "\n",
    "# importation de LabeledSet\n",
    "from iads import LabeledSet as ls\n",
    "\n",
    "# importation de Classifiers\n",
    "from iads import Classifiers as cl\n",
    "\n",
    "# importation de utils\n",
    "from iads import utils as ut"
   ]
  },
  {
   "cell_type": "markdown",
   "metadata": {},
   "source": [
    "### Génération de données Jouet\n",
    "\n",
    "<font color=\"RED\" size=\"+1\">**[Q]**</font>  Dans un premier temps, pour mettre au point les fonctions, générer une base jouet assez petite (par exemple, 10 exemples de chaque classe)."
   ]
  },
  {
   "cell_type": "code",
   "execution_count": 2,
   "metadata": {},
   "outputs": [],
   "source": [
    "the_set = ut.createGaussianDataset([1, 1], [[1, 0],[0, 1]], [-1, -1], [[1, 0],[0, 1]], 10)"
   ]
  },
  {
   "cell_type": "code",
   "execution_count": 3,
   "metadata": {},
   "outputs": [
    {
     "data": {
      "text/plain": [
       "array([[-0.50834799,  0.87296109],\n",
       "       [ 2.71466466,  1.21677632],\n",
       "       [ 1.81546686, -0.93551059],\n",
       "       [-0.25501271,  1.38859567],\n",
       "       [-0.47559705,  0.78567101],\n",
       "       [ 1.71041217,  2.00082216],\n",
       "       [-0.49164786,  0.88615469],\n",
       "       [ 0.79323131,  1.72798269],\n",
       "       [ 2.12962428,  1.30164147],\n",
       "       [ 1.94561526,  2.39501463]])"
      ]
     },
     "execution_count": 3,
     "metadata": {},
     "output_type": "execute_result"
    }
   ],
   "source": [
    "# the_set = ... # définition d'un LabeledSet avec la fonction précédente\n",
    "\n",
    "S= the_set.x[np.where(the_set.y == 1),:]\n",
    "S[0]"
   ]
  },
  {
   "cell_type": "code",
   "execution_count": 4,
   "metadata": {},
   "outputs": [
    {
     "data": {
      "image/png": "[encoded data removed]",
      "text/plain": [
       "<Figure size 432x288 with 1 Axes>"
      ]
     },
     "metadata": {
      "needs_background": "light"
     },
     "output_type": "display_data"
    }
   ],
   "source": [
    "# Affichage du dataset généré\n",
    "ut.plot2DSet(the_set)"
   ]
  },
  {
   "cell_type": "markdown",
   "metadata": {},
   "source": [
    "<font color=\"RED\" size=\"+1\">**[Q]**</font> Ecrire la fonction <code>classe_majoritaire()</code> qui, étant donné un LabeledSet rend la classe majoritaire dans l'ensemble (celle qui est possédée par le plus grand nombre d'exemples donc...). En cas d'égalité, cette fonction rend la classe +1."
   ]
  },
  {
   "cell_type": "code",
   "execution_count": 5,
   "metadata": {},
   "outputs": [],
   "source": [
    "def classe_majoritaire(labelset):\n",
    "    somme = 0\n",
    "    for i in range(labelset.size()):\n",
    "        somme += labelset.getY(i)\n",
    "    if somme >= 0:\n",
    "        return 1\n",
    "    else:\n",
    "        return -1"
   ]
  },
  {
   "cell_type": "code",
   "execution_count": 6,
   "metadata": {},
   "outputs": [
    {
     "data": {
      "text/plain": [
       "1"
      ]
     },
     "execution_count": 6,
     "metadata": {},
     "output_type": "execute_result"
    }
   ],
   "source": [
    "classe_majoritaire(the_set)"
   ]
  },
  {
   "cell_type": "markdown",
   "metadata": {},
   "source": [
    "## Arbres de décision\n",
    "\n",
    "Dans cette étape, on réalise l'implémentation de l'algorithme de construction d'un arbre de décision."
   ]
  },
  {
   "cell_type": "markdown",
   "metadata": {},
   "source": [
    "### Entropie et gain d'information\n",
    "\n",
    "On note $\\{c_1, c_2,..., c_k\\}$, l'ensemble des classes possibles.\n",
    "\n",
    "Dans le cours, la mesure de désordre présentée utilise, pour toute valeur $c$ de la classe le ratio $\\frac{|Y(c)|}{|Y|}$ qui correspond à la probabilité de la classe $c$ parmi $Y$.\n",
    "On note dans ce qui suit $p_1$ la probabilité de la classe $c_1$ parmi $Y$, etc. \n",
    "\n",
    "Ainsi, on a $P=(p_1, p_2,..., p_k)$ la distribution de probabilités sur les classes ainsi définies.\n",
    "\n",
    "L'**entropie de Shannon** de la distribution $P$ est donnée par:\n",
    "\n",
    "$ H_S(P) = -\\sum_{i=1}^{k} p_i \\log_k(p_i)$\n",
    "\n",
    "Le logarithme utilisé est le logarithme en base $k$ afin d'obtenir une valeur normalisée de l'entropie. \n",
    "\n",
    "*Remarque:* avec les notations vues en cours, on a $D(Y) = H_S(P)$.\n",
    "\n",
    "Pour ce qui suit, une *distribution de probabilités* est représentée par une **liste** Python $P=[p_1,...,p_k]$ de valeurs réelles telle que\n",
    "* pour tout $i=1,..., k$ : $0 \\leq p_i \\leq 1$\n",
    "* $\\sum_{i=1}^{k}p_i = 1$\n"
   ]
  },
  {
   "cell_type": "markdown",
   "metadata": {},
   "source": [
    "<font color=\"RED\" size=\"+1\">**[Q]**</font> Ecrire la fonction <code>shannon()</code> qui, étant donné une distribution de probabilités $P$, rend la valeur de $H_S(P)$, l'entropie de Shannon de $P$."
   ]
  },
  {
   "cell_type": "code",
   "execution_count": 7,
   "metadata": {},
   "outputs": [],
   "source": [
    "def shannon(P):\n",
    "    ent = 0.0\n",
    "    for i in range(len(P)):\n",
    "        if P[i]!=0 and P[i]!=1:\n",
    "            ent += P[i]*(math.log(P[i],len(P)))\n",
    "    return -ent"
   ]
  },
  {
   "cell_type": "code",
   "execution_count": 8,
   "metadata": {},
   "outputs": [
    {
     "name": "stdout",
     "output_type": "stream",
     "text": [
      "P=[1,0] :  -0.0\n",
      "P=[0.25, 0.25, 0.25, 0.25] :  1.0\n",
      "P=[0.7, 0.1, 0.2, 0.0] :  0.5783898247235197\n",
      "P=[1.0/3, 2.0/3] :  0.9182958340544896\n"
     ]
    }
   ],
   "source": [
    "# Exemples d'utilisation:\n",
    "print(\"P=[1,0] : \", shannon([1, 0]))\n",
    "print(\"P=[0.25, 0.25, 0.25, 0.25] : \", shannon([0.25, 0.25, 0.25, 0.25]))\n",
    "print(\"P=[0.7, 0.1, 0.2, 0.0] : \", shannon([0.7, 0.1, 0.2, 0.0]))\n",
    "print(\"P=[1.0/3, 2.0/3] : \", shannon([1.0/3, 2.0/3]))"
   ]
  },
  {
   "cell_type": "code",
   "execution_count": 9,
   "metadata": {},
   "outputs": [
    {
     "name": "stdout",
     "output_type": "stream",
     "text": [
      "P=[1,0] :  -0.0\n",
      "P=[0.25, 0.25, 0.25, 0.25] :  1.0\n",
      "P=[0.7, 0.1, 0.2, 0.0] :  0.5783898247235197\n",
      "P=[1.0/3, 2.0/3] :  0.9182958340544896\n"
     ]
    }
   ],
   "source": [
    "# Exemples d'utilisation:\n",
    "print(\"P=[1,0] : \", shannon([1, 0]))\n",
    "print(\"P=[0.25, 0.25, 0.25, 0.25] : \", shannon([0.25, 0.25, 0.25, 0.25]))\n",
    "print(\"P=[0.7, 0.1, 0.2, 0.0] : \", shannon([0.7, 0.1, 0.2, 0.0]))\n",
    "print(\"P=[1.0/3, 2.0/3] : \", shannon([1.0/3, 2.0/3]))"
   ]
  },
  {
   "cell_type": "markdown",
   "metadata": {},
   "source": [
    "<font color=\"RED\" size=\"+1\">**[Q]**</font> Tracer, à l'aide de la fonction plot, la courbe donnant la valeur de <code>shannon([p, 1-p])</code> en fonction de <code>p</code>."
   ]
  },
  {
   "cell_type": "code",
   "execution_count": 10,
   "metadata": {},
   "outputs": [],
   "source": [
    "import matplotlib.pyplot as plt"
   ]
  },
  {
   "cell_type": "code",
   "execution_count": 11,
   "metadata": {
    "scrolled": true
   },
   "outputs": [
    {
     "data": {
      "image/png": "[encoded data removed]",
      "text/plain": [
       "<Figure size 432x288 with 1 Axes>"
      ]
     },
     "metadata": {
      "needs_background": "light"
     },
     "output_type": "display_data"
    }
   ],
   "source": [
    "P = [ i/100 for i in range(0, 101)]\n",
    "\n",
    "x_values = []\n",
    "x = 0.0\n",
    "for i in range(0, len(P)):\n",
    "    x += 0.01\n",
    "    x_values.append(x)\n",
    "\n",
    "    \n",
    "y_values = []\n",
    "for i in range(len(P)):\n",
    "    p = P[i]\n",
    "    y_values.append(shannon([p,1-p]))\n",
    "\n",
    "plt.xlabel('p')\n",
    "plt.ylabel('shannon([p, 1-p])')\n",
    "plt.plot(x_values,y_values)\n",
    "plt.show()\n",
    "\n",
    "\n"
   ]
  },
  {
   "cell_type": "code",
   "execution_count": null,
   "metadata": {},
   "outputs": [],
   "source": []
  },
  {
   "cell_type": "markdown",
   "metadata": {},
   "source": [
    "<font color=\"RED\" size=\"+1\">**[Q]**</font> A l'aide de la fonction <code>shannon()</code>, écrire la fonction <code>entropie()</code> qui prend un LabeledSet en argument et renvoie l'entropie de la distribution des classes dans cet ensemble."
   ]
  },
  {
   "cell_type": "code",
   "execution_count": 12,
   "metadata": {},
   "outputs": [],
   "source": [
    "def entropie(labeledSet):\n",
    "    n_class = dict()\n",
    "    for i in range(labeledSet.size()):\n",
    "        if labeledSet.getY(i)[0] not in n_class:\n",
    "            n_class[labeledSet.getY(i)[0]] = 1\n",
    "        else:\n",
    "            n_class[labeledSet.getY(i)[0]] += 1\n",
    "            \n",
    "    P = [ (n/labeledSet.size()) for n in n_class.values()]\n",
    "    return shannon(P)\n",
    "    \n",
    "    "
   ]
  },
  {
   "cell_type": "code",
   "execution_count": 13,
   "metadata": {},
   "outputs": [
    {
     "data": {
      "text/plain": [
       "1.0"
      ]
     },
     "execution_count": 13,
     "metadata": {},
     "output_type": "execute_result"
    }
   ],
   "source": [
    "entropie(the_set)"
   ]
  },
  {
   "cell_type": "markdown",
   "metadata": {},
   "source": [
    "Cette fonction <code>entropie</code> permet dont de calculer le désordre des classes dans le LabeledSet considéré."
   ]
  },
  {
   "cell_type": "markdown",
   "metadata": {},
   "source": [
    "### Discrétisation des attributs numériques"
   ]
  },
  {
   "cell_type": "markdown",
   "metadata": {
    "collapsed": true
   },
   "source": [
    "Comme on l'a vu en cours, discrétiser un attribut numérique consiste en trouver un seuil de coupure dans son ensemble de valeurs. \n",
    "\n",
    "Par exemple, soit l'attribut Age contenant les valeurs 17, 18, 20, 27, 35, 37, 40. On discrétise cet attribut en 2 valeurs en prenant, par exemple, le seuil 30: cela permet de séparer d'un côté les valeurs inférieures ou égales à 30, et de l'autre les valeurs strictement supérieures à 30.\n",
    "\n",
    "Le seuil est choisi afin d'optimiser la distribution des classes des exemples qui se trouvent de chaque côté du seuil. Une fois un seuil choisi, on calcule le désordre des classes associées aux exemples de chaque côté du seuil et on agrège les 2 valeurs de désordre obtenues pour déterminer la qualité de la coupure à l'aide de la mesure $Q$ vue en cours.\n",
    "\n",
    "\n",
    "Soit $X$ un ensemble d'exemples, et soit $A$ un attribut que l'on souhaite discrétiser. Pour cela, on constitue l'ensemble des valeurs prises par les exemples de $X$ pour l'attribut $A$. Soit $A_X$ cet ensemble de valeurs.\n",
    "\n",
    "La discrétisation de $A_X$ s'effectue par les étapes suivantes:\n",
    "- Etape 1: ordonner de façon croissante les valeurs de $A_X$;\n",
    "- Etape 2: regarder tous les seuils possibles de coupure entre 2 valeurs consécutives de $A_X$ (on prend comme seuil de coupure la valeur médiane entre ces 2 valeurs). Chaque seuil trouvé créé 2 intervalles qui générent 2 sous-ensembles de $X$: l'ensemble $X_1$ des exemples dont la valeur pour $A$ et inférieure ou égale au seuil, et l'ensemble $X_2$ des exemples dont la valeur pour $A$ et supérieure au seuil. On détermine la qualité du seuil par la mesure de qualité d'un test vue en cours. On note $Q(seuil)$ cette valeur.\n",
    "\n",
    "\n",
    "La meilleure coupure pour discrétiser $A_X$ est celle qui minimise la valeur $Q(seuil)$.\n",
    "\n",
    "\n",
    "Par exemple, soit $X=\\{17, 18, 20, 27, 35, 37, 40\\}$, chaque valeur étant associées aux classes +1, +1, -1, -1, +1, +1, -1 respectivement. Un seuil de coupure possible est $31$ ($31 = \\frac{27+35}{2}$). Ce seuil coupe $X$ en $X_1=\\{17, 18, 20, 27\\}$ et $X_2=\\{35, 37, 40\\}$.\n",
    "\n",
    "- pour $X_1$, la probabilité de chaque classe est: $p(+1)= 0.5$ et $p(-1)=0.5$ donc, $H_S(X_1)=1$;\n",
    "- pour $X_2$, la probabilité de chaque classe est: $p(+1)= \\frac{1}{3}$ et $p(-1)=\\frac{2}{3}$ donc, $H_S(X_2)=0.9182958340544896$;\n",
    "- on a donc: $$Q(seuil=31) = \\frac{4}{7} H_S(X_1) + \\frac{3}{7} H_S(X_2);$$\n",
    "soit $Q(seuil=31) = 0.9182958340544896$"
   ]
  },
  {
   "cell_type": "markdown",
   "metadata": {},
   "source": [
    "On considère que <code>the_set</code> est un LabeledSet construit précédement. Il contient deux variables de type array: $x$ et $y$.\n",
    "\n",
    "Regarder et tester les instructions suivantes, il faut bien comprendre comment elles fonctionnent car on va utiliser les mêmes principes dans les fonctions à écrire."
   ]
  },
  {
   "cell_type": "code",
   "execution_count": 14,
   "metadata": {},
   "outputs": [
    {
     "data": {
      "text/plain": [
       "array([[-0.50834799,  0.87296109],\n",
       "       [ 2.71466466,  1.21677632],\n",
       "       [ 1.81546686, -0.93551059],\n",
       "       [-0.25501271,  1.38859567],\n",
       "       [-0.47559705,  0.78567101],\n",
       "       [ 1.71041217,  2.00082216],\n",
       "       [-0.49164786,  0.88615469],\n",
       "       [ 0.79323131,  1.72798269],\n",
       "       [ 2.12962428,  1.30164147],\n",
       "       [ 1.94561526,  2.39501463],\n",
       "       [-1.60244579, -1.73814499],\n",
       "       [-0.56005015, -0.31419992],\n",
       "       [-0.45418266, -1.27829993],\n",
       "       [-1.12560193, -1.25298023],\n",
       "       [ 1.83848864,  0.59515344],\n",
       "       [-1.37875564, -0.64923697],\n",
       "       [-1.20423885, -2.21117187],\n",
       "       [-0.85395976, -0.79327467],\n",
       "       [-1.11822693,  0.39773312],\n",
       "       [-2.49771933, -3.06013432]])"
      ]
     },
     "execution_count": 14,
     "metadata": {},
     "output_type": "execute_result"
    }
   ],
   "source": [
    "the_set.x"
   ]
  },
  {
   "cell_type": "code",
   "execution_count": 15,
   "metadata": {},
   "outputs": [
    {
     "data": {
      "text/plain": [
       "array([[19, 19],\n",
       "       [10, 16],\n",
       "       [15, 10],\n",
       "       [16, 12],\n",
       "       [13, 13],\n",
       "       [18,  2],\n",
       "       [17, 17],\n",
       "       [11, 15],\n",
       "       [ 0, 11],\n",
       "       [ 6, 18],\n",
       "       [ 4, 14],\n",
       "       [12,  4],\n",
       "       [ 3,  0],\n",
       "       [ 7,  6],\n",
       "       [ 5,  1],\n",
       "       [ 2,  8],\n",
       "       [14,  3],\n",
       "       [ 9,  7],\n",
       "       [ 8,  5],\n",
       "       [ 1,  9]])"
      ]
     },
     "execution_count": 15,
     "metadata": {},
     "output_type": "execute_result"
    }
   ],
   "source": [
    "ind= np.argsort(the_set.x,axis=0)   # Tri des valeurs de the_set.x selon les colonnes. \n",
    "                                    # La fonction rend un numpy.ndarray contenant autant de \n",
    "                                    # colonnes que the_set.x et dans chaque colonne, on a \n",
    "                                    # la position de l'exemple dans l'ordonnancement croissant.\n",
    "ind # pour afficher"
   ]
  },
  {
   "cell_type": "code",
   "execution_count": 16,
   "metadata": {},
   "outputs": [
    {
     "data": {
      "text/plain": [
       "array([[-2.49771933, -3.06013432],\n",
       "       [-1.60244579, -1.73814499],\n",
       "       [-1.37875564, -0.64923697],\n",
       "       [-1.20423885, -2.21117187],\n",
       "       [-1.12560193, -1.25298023],\n",
       "       [-1.11822693,  0.39773312],\n",
       "       [-0.85395976, -0.79327467],\n",
       "       [-0.56005015, -0.31419992],\n",
       "       [-0.50834799,  0.87296109],\n",
       "       [-0.49164786,  0.88615469],\n",
       "       [-0.47559705,  0.78567101],\n",
       "       [-0.45418266, -1.27829993],\n",
       "       [-0.25501271,  1.38859567],\n",
       "       [ 0.79323131,  1.72798269],\n",
       "       [ 1.71041217,  2.00082216],\n",
       "       [ 1.81546686, -0.93551059],\n",
       "       [ 1.83848864,  0.59515344],\n",
       "       [ 1.94561526,  2.39501463],\n",
       "       [ 2.12962428,  1.30164147],\n",
       "       [ 2.71466466,  1.21677632]])"
      ]
     },
     "execution_count": 16,
     "metadata": {},
     "output_type": "execute_result"
    }
   ],
   "source": [
    "the_set.x[ind[0:len(the_set.x),0]]  # Rend le numpy.array des exemples de the_set.x ordonnés\n",
    "                                    # selon les indices donnés dans ind (colonne 0)\n"
   ]
  },
  {
   "cell_type": "code",
   "execution_count": 17,
   "metadata": {},
   "outputs": [
    {
     "data": {
      "text/plain": [
       "array([[-1],\n",
       "       [-1],\n",
       "       [-1],\n",
       "       [-1],\n",
       "       [-1],\n",
       "       [-1],\n",
       "       [-1],\n",
       "       [-1],\n",
       "       [ 1],\n",
       "       [ 1],\n",
       "       [ 1],\n",
       "       [-1],\n",
       "       [ 1],\n",
       "       [ 1],\n",
       "       [ 1],\n",
       "       [ 1],\n",
       "       [-1],\n",
       "       [ 1],\n",
       "       [ 1],\n",
       "       [ 1]])"
      ]
     },
     "execution_count": 17,
     "metadata": {},
     "output_type": "execute_result"
    }
   ],
   "source": [
    "the_set.y[ind[0:len(the_set.y),0]]  # Rend le numpy.array des exemples de the_set.y ordonnés\n",
    "                                    # selon les indices donnés dans ind (colonne 0)"
   ]
  },
  {
   "cell_type": "code",
   "execution_count": 18,
   "metadata": {},
   "outputs": [
    {
     "name": "stdout",
     "output_type": "stream",
     "text": [
      "valeur= -3.060134324180425 classe=  -1\n",
      "valeur= -2.2111718744008115 classe=  -1\n",
      "valeur= -1.7381449943698284 classe=  -1\n",
      "valeur= -1.2782999278567893 classe=  -1\n",
      "valeur= -1.2529802339156837 classe=  -1\n",
      "valeur= -0.9355105899277394 classe=  1\n",
      "valeur= -0.7932746691097377 classe=  -1\n",
      "valeur= -0.6492369676395418 classe=  -1\n",
      "valeur= -0.31419992231368077 classe=  -1\n",
      "valeur= 0.3977331188355038 classe=  -1\n",
      "valeur= 0.5951534385191859 classe=  -1\n",
      "valeur= 0.7856710112323154 classe=  1\n",
      "valeur= 0.8729610904171599 classe=  1\n",
      "valeur= 0.8861546909611442 classe=  1\n",
      "valeur= 1.2167763243653653 classe=  1\n",
      "valeur= 1.3016414742325102 classe=  1\n",
      "valeur= 1.3885956715867303 classe=  1\n",
      "valeur= 1.727982685089903 classe=  1\n",
      "valeur= 2.0008221610885384 classe=  1\n",
      "valeur= 2.3950146300546953 classe=  1\n"
     ]
    }
   ],
   "source": [
    "colonne = 1    # numéro de la colonne de the_set.x à considérer\n",
    "for v_i in ind[0:len(the_set.x)]:\n",
    "    i = v_i[colonne]\n",
    "    exem = the_set.getX(i)\n",
    "    clas = the_set.getY(i)\n",
    "    print(\"valeur=\",exem[colonne], \"classe= \", clas[0])"
   ]
  },
  {
   "cell_type": "markdown",
   "metadata": {},
   "source": [
    "Etant donné un LabeledSet, ainsi qu'un numéro de colonne à considérer (qui correspond à un des attributs de description), la fonction <code>discrétise()</code> rend un tuple constitué de la valeur de coupure qui optimise la mesure de qualité, et de la valeur trouvée pour cette mesure."
   ]
  },
  {
   "cell_type": "code",
   "execution_count": 19,
   "metadata": {},
   "outputs": [],
   "source": [
    "def discretise(LSet, col):\n",
    "    \"\"\" LabelledSet * int -> tuple[float, float]\n",
    "        Hypothèse: LSet.size() >= 2\n",
    "        col est le numéro de colonne sur X à discrétiser\n",
    "        rend la valeur de coupure qui minimise l'entropie ainsi que son entropie.\n",
    "    \"\"\"\n",
    "    # initialisation:\n",
    "    min_entropie = 1.1  # on met à une valeur max car on veut minimiser\n",
    "    min_seuil = 0.0     \n",
    "    # trie des valeurs:\n",
    "    ind= np.argsort(LSet.x,axis=0)\n",
    "    \n",
    "    # calcul des distributions des classes pour E1 et E2:\n",
    "    inf_plus  = 0               # nombre de +1 dans E1\n",
    "    inf_moins = 0               # nombre de -1 dans E1\n",
    "    sup_plus  = 0               # nombre de +1 dans E2\n",
    "    sup_moins = 0               # nombre de -1 dans E2       \n",
    "    # remarque: au départ on considère que E1 est vide et donc E2 correspond à E. \n",
    "    # Ainsi inf_plus et inf_moins valent 0. Il reste à calculer sup_plus et sup_moins \n",
    "    # dans E.\n",
    "    for j in range(0,LSet.size()):\n",
    "        if (LSet.getY(j) == -1):\n",
    "            sup_moins += 1\n",
    "        else:\n",
    "            sup_plus += 1\n",
    "    nb_total = (sup_plus + sup_moins) # nombre d'exemples total dans E\n",
    "    \n",
    "    # parcours pour trouver le meilleur seuil:\n",
    "    for i in range(len(LSet.x)-1):\n",
    "        v_ind_i = ind[i]   # vecteur d'indices\n",
    "        courant = LSet.getX(v_ind_i[col])[col]\n",
    "        lookahead = LSet.getX(ind[i+1][col])[col]\n",
    "        val_seuil = (courant + lookahead) / 2.0;\n",
    "        # M-A-J de la distrib. des classes:\n",
    "        # pour réduire les traitements: on retire un exemple de E2 et on le place\n",
    "        # dans E1, c'est ainsi que l'on déplace donc le seuil de coupure.\n",
    "        if LSet.getY(ind[i][col])[0] == -1:\n",
    "            inf_moins += 1\n",
    "            sup_moins -= 1\n",
    "        else:\n",
    "            inf_plus += 1\n",
    "            sup_plus -= 1\n",
    "        # calcul de la distribution des classes de chaque côté du seuil:\n",
    "        nb_inf = (inf_moins + inf_plus)*1.0     # rem: on en fait un float pour éviter\n",
    "        nb_sup = (sup_moins + sup_plus)*1.0     # que ce soit une division entière.\n",
    "        # calcul de l'entropie de la coupure\n",
    "        val_entropie_inf = shannon([inf_moins / nb_inf, inf_plus  / nb_inf])\n",
    "        val_entropie_sup = shannon([sup_moins / nb_sup, sup_plus  / nb_sup])\n",
    "        val_entropie = (nb_inf / nb_total) * val_entropie_inf \\\n",
    "                       + (nb_sup / nb_total) * val_entropie_sup\n",
    "        # si cette coupure minimise l'entropie, on mémorise ce seuil et son entropie:\n",
    "        if (min_entropie > val_entropie):\n",
    "            min_entropie = val_entropie\n",
    "            min_seuil = val_seuil\n",
    "    return (min_seuil, min_entropie)"
   ]
  },
  {
   "cell_type": "code",
   "execution_count": 20,
   "metadata": {},
   "outputs": [
    {
     "data": {
      "text/plain": [
       "(-0.5341990692597713, 0.39001345298901247)"
      ]
     },
     "execution_count": 20,
     "metadata": {},
     "output_type": "execute_result"
    }
   ],
   "source": [
    "discretise(the_set,0) # le résultat dépend, bien sûr, de la base jouet"
   ]
  },
  {
   "cell_type": "code",
   "execution_count": 21,
   "metadata": {},
   "outputs": [
    {
     "data": {
      "text/plain": [
       "(0.6904122248757507, 0.2417233428068324)"
      ]
     },
     "execution_count": 21,
     "metadata": {},
     "output_type": "execute_result"
    }
   ],
   "source": [
    "discretise(the_set,1) # le résultat dépend, bien sûr, de la base jouet"
   ]
  },
  {
   "cell_type": "markdown",
   "metadata": {},
   "source": [
    "Une dernière fonction utile permet de diviser une base d'exemples en 2 sous-bases en utilisant un seuil sur la valeur d'un attribut donné.\n",
    "\n",
    "<font color=\"RED\" size=\"+1\">**[Q]**</font> Ecrire la fonction divise() dont la spécification est:\n",
    "\n",
    "    def divise(LSet,att,seuil):\n",
    "        \"\"\" LSet: LabeledSet\n",
    "            att : numéro d'attribut\n",
    "            seuil : valeur de seuil\n",
    "            rend le tuple contenant les 2 sous-LabeledSet obtenus par la\n",
    "            division de LSet selon le seuil sur l'attribut att\n",
    "        \"\"\"\n",
    "\n"
   ]
  },
  {
   "cell_type": "code",
   "execution_count": 22,
   "metadata": {},
   "outputs": [],
   "source": [
    "def divise(LSet,att,seuil):\n",
    "    \"\"\" LSet: LabeledSet\n",
    "        att : numéro d'attribut\n",
    "        seuil : valeur de seuil\n",
    "        rend le tuple contenant les 2 sous-LabeledSet obtenus par la\n",
    "        division de LSet selon le seuil sur l'attribut att\n",
    "    \"\"\"\n",
    "    Linf = ut.LabeledSet(LSet.getInputDimension())\n",
    "    Lsup = ut.LabeledSet(LSet.getInputDimension())\n",
    "    for i in range(LSet.size()):\n",
    "        if LSet.getX(i)[att] < seuil:\n",
    "            Linf.addExample(LSet.getX(i) , LSet.getY(i))\n",
    "        else:\n",
    "            Lsup.addExample(LSet.getX(i) , LSet.getY(i))\n",
    "    return Linf, Lsup "
   ]
  },
  {
   "cell_type": "code",
   "execution_count": 23,
   "metadata": {},
   "outputs": [
    {
     "name": "stdout",
     "output_type": "stream",
     "text": [
      "entropie inférieur: 0.5032583347756457  / entropie supérieur: 0.6840384356390417\n"
     ]
    }
   ],
   "source": [
    "Linf, Lsup = divise(the_set,0,-0.5)\n",
    "print(\"entropie inférieur:\",entropie(Linf),\" / entropie supérieur:\", entropie(Lsup))\n",
    "# remarque: les résultats dépendent de votre base jouet..."
   ]
  },
  {
   "cell_type": "markdown",
   "metadata": {},
   "source": [
    "### Représentation d'un arbre en Python"
   ]
  },
  {
   "cell_type": "markdown",
   "metadata": {},
   "source": [
    "Un arbre de décision doit être représenté en Python, pour cela, on utilise la classe <code>ArbreBinaire</code> suivante:"
   ]
  },
  {
   "cell_type": "code",
   "execution_count": 24,
   "metadata": {},
   "outputs": [],
   "source": [
    "import graphviz as gv\n",
    "# Eventuellement, il peut être nécessaire d'installer graphviz sur votre compte:\n",
    "# pip install --user --install-option=\"--prefix=\" -U graphviz\n",
    "\n",
    "\n",
    "class ArbreBinaire:\n",
    "    def __init__(self):\n",
    "        self.attribut = None   # numéro de l'attribut\n",
    "        self.seuil = None\n",
    "        self.inferieur = None # ArbreBinaire Gauche (valeurs <= au seuil)\n",
    "        self.superieur = None # ArbreBinaire Gauche (valeurs > au seuil)\n",
    "        self.classe = None # Classe si c'est une feuille: -1 ou +1\n",
    "        \n",
    "    def est_feuille(self):\n",
    "        \"\"\" rend True si l'arbre est une feuille \"\"\"\n",
    "        return self.seuil == None\n",
    "    \n",
    "    def ajoute_fils(self,ABinf,ABsup,att,seuil):\n",
    "        \"\"\" ABinf, ABsup: 2 arbres binaires\n",
    "            att: numéro d'attribut\n",
    "            seuil: valeur de seuil\n",
    "        \"\"\"\n",
    "        self.attribut = att\n",
    "        self.seuil = seuil\n",
    "        self.inferieur = ABinf\n",
    "        self.superieur = ABsup\n",
    "    \n",
    "    def ajoute_feuille(self,classe):\n",
    "        \"\"\" classe: -1 ou + 1\n",
    "        \"\"\"\n",
    "        self.classe = classe\n",
    "        \n",
    "    def classifie(self,exemple):\n",
    "        \"\"\" exemple : numpy.array\n",
    "            rend la classe de l'exemple: +1 ou -1\n",
    "        \"\"\"\n",
    "        if self.est_feuille():\n",
    "            return self.classe\n",
    "        if exemple[self.attribut] <= self.seuil:\n",
    "            return self.inferieur.classifie(exemple)\n",
    "        return self.superieur.classifie(exemple)\n",
    "    \n",
    "    def to_graph(self, g, prefixe='A'):\n",
    "        \"\"\" construit une représentation de l'arbre pour pouvoir\n",
    "            l'afficher\n",
    "        \"\"\"\n",
    "        if self.est_feuille():\n",
    "            g.node(prefixe,str(self.classe),shape='box')\n",
    "        else:\n",
    "            g.node(prefixe, str(self.attribut))\n",
    "            self.inferieur.to_graph(g,prefixe+\"g\")\n",
    "            self.superieur.to_graph(g,prefixe+\"d\")\n",
    "            g.edge(prefixe,prefixe+\"g\", '<='+ str(self.seuil))\n",
    "            g.edge(prefixe,prefixe+\"d\", '>'+ str(self.seuil))\n",
    "        \n",
    "        return g"
   ]
  },
  {
   "cell_type": "markdown",
   "metadata": {},
   "source": [
    "### Construction de l'arbre de décision"
   ]
  },
  {
   "cell_type": "markdown",
   "metadata": {},
   "source": [
    "Pour construire un arbre de décision, il faut réaliser les étapes suivantes:\n",
    "- si l'entropie de Shannon de la distribution des classes de l'ensemble courant est inférieure à epsilon (réel positif fixé et qui est un paramètre de l'algorithme), alors construire une feuille avec cet ensemble, la classe associée à cette feuille est la classe majoritaire;\n",
    "- sinon, pour chaque attribut, calculer le seuil de discrétisation et l'entropie de Shannon correspondante\n",
    "    - choisir l'attribut qui donne une valeur d'entropie minimale\n",
    "    - l'attribut choisi sert à constituer un noeud de l'arbre de décision, les arcs issus de ce noeud sont labeller par un test (inférieur ou égal ou supérieur) par rapport au seuil trouvé\n",
    "    \n",
    "    \n",
    "<font color=\"RED\" size=\"+1\">**[Q]**</font> Ecrire la fonction qui construit un arbre de décision (binaire) à partir d'une base d'exemples. En plus de la base d'exemples, on utilise un argument \"epsilon\" qui est un réel >0 et qui sert pour le critère d'arrêt.\n",
    "Cette fonction a la spécification suivante:\n",
    "\n",
    "    def construit_AD(LSet,epsilon):\n",
    "        \"\"\" LSet : LabeledSet\n",
    "            epsilon : seuil d'entropie pour le critère d'arrêt \n",
    "        \"\"\"\n"
   ]
  },
  {
   "cell_type": "code",
   "execution_count": 25,
   "metadata": {},
   "outputs": [],
   "source": [
    "def construit_AD(LSet,epsilon):\n",
    "    \"\"\" LSet : LabeledSet\n",
    "        epsilon : seuil d'entropie pour le critère d'arrêt \n",
    "    \"\"\"\n",
    "    if (entropie(LSet) < epsilon):\n",
    "        ab = ArbreBinaire()\n",
    "        ab.ajoute_feuille(classe_majoritaire(LSet))\n",
    "        ab.est_feuille\n",
    "        return ab\n",
    "    else:\n",
    "        att = 0\n",
    "        min_entropie = 1.1\n",
    "        min_seuil = 0.0\n",
    "        for i in range(LSet.getInputDimension()):\n",
    "            seuil_courant, entropie_courant = discretise(LSet,i)\n",
    "            if entropie_courant < min_entropie:\n",
    "                min_entropie = entropie_courant\n",
    "                min_seuil = seuil_courant\n",
    "                att = i\n",
    "        Linf, Lsup = divise(LSet, att, min_seuil)\n",
    "        ab = ArbreBinaire()\n",
    "        ab.ajoute_fils(construit_AD(Linf, epsilon), construit_AD(Lsup, epsilon), att, min_seuil)\n",
    "        return ab\n",
    "                \n",
    "                "
   ]
  },
  {
   "cell_type": "code",
   "execution_count": 26,
   "metadata": {},
   "outputs": [
    {
     "data": {
      "image/svg+xml": [
       "<?xml version=\"1.0\" encoding=\"UTF-8\" standalone=\"no\"?>\n",
       "<!DOCTYPE svg PUBLIC \"-//W3C//DTD SVG 1.1//EN\"\n",
       " \"http://www.w3.org/Graphics/SVG/1.1/DTD/svg11.dtd\">\n",
       "<!-- Generated by graphviz version 2.40.1 (20161225.0304)\n",
       " -->\n",
       "<!-- Title: %3 Pages: 1 -->\n",
       "<svg width=\"134pt\" height=\"131pt\"\n",
       " viewBox=\"0.00 0.00 134.00 131.00\" xmlns=\"http://www.w3.org/2000/svg\" xmlns:xlink=\"http://www.w3.org/1999/xlink\">\n",
       "<g id=\"graph0\" class=\"graph\" transform=\"scale(1 1) rotate(0) translate(4 127)\">\n",
       "<title>%3</title>\n",
       "<polygon fill=\"#ffffff\" stroke=\"transparent\" points=\"-4,4 -4,-127 130,-127 130,4 -4,4\"/>\n",
       "<!-- A -->\n",
       "<g id=\"node1\" class=\"node\">\n",
       "<title>A</title>\n",
       "<ellipse fill=\"none\" stroke=\"#000000\" cx=\"63\" cy=\"-105\" rx=\"27\" ry=\"18\"/>\n",
       "<text text-anchor=\"middle\" x=\"63\" y=\"-101.3\" font-family=\"Times,serif\" font-size=\"14.00\" fill=\"#000000\">nom</text>\n",
       "</g>\n",
       "<!-- Ag -->\n",
       "<g id=\"node2\" class=\"node\">\n",
       "<title>Ag</title>\n",
       "<polygon fill=\"none\" stroke=\"#000000\" points=\"54,-36 0,-36 0,0 54,0 54,-36\"/>\n",
       "<text text-anchor=\"middle\" x=\"27\" y=\"-14.3\" font-family=\"Times,serif\" font-size=\"14.00\" fill=\"#000000\">1</text>\n",
       "</g>\n",
       "<!-- A&#45;&gt;Ag -->\n",
       "<g id=\"edge1\" class=\"edge\">\n",
       "<title>A&#45;&gt;Ag</title>\n",
       "<path fill=\"none\" stroke=\"#000000\" d=\"M48.8845,-89.5283C44.0999,-83.5114 39.1697,-76.3112 36,-69 32.902,-61.8542 30.8701,-53.7049 29.5375,-46.0494\"/>\n",
       "<polygon fill=\"#000000\" stroke=\"#000000\" points=\"32.9898,-45.4657 28.1194,-36.0567 26.0593,-46.4493 32.9898,-45.4657\"/>\n",
       "<text text-anchor=\"middle\" x=\"56.5\" y=\"-57.8\" font-family=\"Times,serif\" font-size=\"14.00\" fill=\"#000000\">&lt;=42.0</text>\n",
       "</g>\n",
       "<!-- Ad -->\n",
       "<g id=\"node3\" class=\"node\">\n",
       "<title>Ad</title>\n",
       "<polygon fill=\"none\" stroke=\"#000000\" points=\"126,-36 72,-36 72,0 126,0 126,-36\"/>\n",
       "<text text-anchor=\"middle\" x=\"99\" y=\"-14.3\" font-family=\"Times,serif\" font-size=\"14.00\" fill=\"#000000\">2</text>\n",
       "</g>\n",
       "<!-- A&#45;&gt;Ad -->\n",
       "<g id=\"edge2\" class=\"edge\">\n",
       "<title>A&#45;&gt;Ad</title>\n",
       "<path fill=\"none\" stroke=\"#000000\" d=\"M70.2851,-87.3943C75.245,-75.408 81.9113,-59.2978 87.5723,-45.617\"/>\n",
       "<polygon fill=\"#000000\" stroke=\"#000000\" points=\"90.8884,-46.7569 91.4779,-36.1785 84.4202,-44.0804 90.8884,-46.7569\"/>\n",
       "<text text-anchor=\"middle\" x=\"99.5\" y=\"-57.8\" font-family=\"Times,serif\" font-size=\"14.00\" fill=\"#000000\">&gt;42.0</text>\n",
       "</g>\n",
       "</g>\n",
       "</svg>\n"
      ],
      "text/plain": [
       "<graphviz.dot.Digraph at 0x11fe34748>"
      ]
     },
     "execution_count": 26,
     "metadata": {},
     "output_type": "execute_result"
    }
   ],
   "source": [
    "# Exemple d'utilisation: \n",
    "un_arbre= ArbreBinaire()\n",
    "un_arbre.ajoute_feuille(1)\n",
    "un_arbre.est_feuille()\n",
    "un_arbre1 = ArbreBinaire()\n",
    "un_arbre1.ajoute_feuille(2)\n",
    "un_arbre2 = ArbreBinaire()\n",
    "un_arbre2.ajoute_fils(un_arbre,un_arbre1,\"nom\",42.0)\n",
    "\n",
    "gtree = gv.Digraph(format='png')\n",
    "un_arbre2.to_graph(gtree)"
   ]
  },
  {
   "cell_type": "code",
   "execution_count": 27,
   "metadata": {},
   "outputs": [
    {
     "data": {
      "image/svg+xml": [
       "<?xml version=\"1.0\" encoding=\"UTF-8\" standalone=\"no\"?>\n",
       "<!DOCTYPE svg PUBLIC \"-//W3C//DTD SVG 1.1//EN\"\n",
       " \"http://www.w3.org/Graphics/SVG/1.1/DTD/svg11.dtd\">\n",
       "<!-- Generated by graphviz version 2.40.1 (20161225.0304)\n",
       " -->\n",
       "<!-- Title: %3 Pages: 1 -->\n",
       "<svg width=\"397pt\" height=\"305pt\"\n",
       " viewBox=\"0.00 0.00 397.00 305.00\" xmlns=\"http://www.w3.org/2000/svg\" xmlns:xlink=\"http://www.w3.org/1999/xlink\">\n",
       "<g id=\"graph0\" class=\"graph\" transform=\"scale(1 1) rotate(0) translate(4 301)\">\n",
       "<title>%3</title>\n",
       "<polygon fill=\"#ffffff\" stroke=\"transparent\" points=\"-4,4 -4,-301 393,-301 393,4 -4,4\"/>\n",
       "<!-- A -->\n",
       "<g id=\"node1\" class=\"node\">\n",
       "<title>A</title>\n",
       "<ellipse fill=\"none\" stroke=\"#000000\" cx=\"189\" cy=\"-279\" rx=\"27\" ry=\"18\"/>\n",
       "<text text-anchor=\"middle\" x=\"189\" y=\"-275.3\" font-family=\"Times,serif\" font-size=\"14.00\" fill=\"#000000\">1</text>\n",
       "</g>\n",
       "<!-- Ag -->\n",
       "<g id=\"node2\" class=\"node\">\n",
       "<title>Ag</title>\n",
       "<ellipse fill=\"none\" stroke=\"#000000\" cx=\"108\" cy=\"-192\" rx=\"27\" ry=\"18\"/>\n",
       "<text text-anchor=\"middle\" x=\"108\" y=\"-188.3\" font-family=\"Times,serif\" font-size=\"14.00\" fill=\"#000000\">0</text>\n",
       "</g>\n",
       "<!-- A&#45;&gt;Ag -->\n",
       "<g id=\"edge5\" class=\"edge\">\n",
       "<title>A&#45;&gt;Ag</title>\n",
       "<path fill=\"none\" stroke=\"#000000\" d=\"M162.6279,-274.6767C144.2308,-270.1481 120.9204,-261.0454 109,-243 104.5879,-236.3208 103.1669,-228.0001 103.1747,-220.0297\"/>\n",
       "<polygon fill=\"#000000\" stroke=\"#000000\" points=\"106.6754,-220.1398 103.8767,-209.9213 99.6922,-219.6547 106.6754,-220.1398\"/>\n",
       "<text text-anchor=\"middle\" x=\"178.5\" y=\"-231.8\" font-family=\"Times,serif\" font-size=\"14.00\" fill=\"#000000\">&lt;=0.6904122248757507</text>\n",
       "</g>\n",
       "<!-- Ad -->\n",
       "<g id=\"node7\" class=\"node\">\n",
       "<title>Ad</title>\n",
       "<polygon fill=\"none\" stroke=\"#000000\" points=\"297,-210 243,-210 243,-174 297,-174 297,-210\"/>\n",
       "<text text-anchor=\"middle\" x=\"270\" y=\"-188.3\" font-family=\"Times,serif\" font-size=\"14.00\" fill=\"#000000\">1</text>\n",
       "</g>\n",
       "<!-- A&#45;&gt;Ad -->\n",
       "<g id=\"edge6\" class=\"edge\">\n",
       "<title>A&#45;&gt;Ad</title>\n",
       "<path fill=\"none\" stroke=\"#000000\" d=\"M211.8111,-269.2637C223.8681,-263.1733 238.1653,-254.3248 248,-243 253.8436,-236.2711 258.3352,-227.7535 261.6895,-219.6159\"/>\n",
       "<polygon fill=\"#000000\" stroke=\"#000000\" points=\"265.0507,-220.6172 265.2313,-210.0239 258.484,-218.1924 265.0507,-220.6172\"/>\n",
       "<text text-anchor=\"middle\" x=\"323.5\" y=\"-231.8\" font-family=\"Times,serif\" font-size=\"14.00\" fill=\"#000000\">&gt;0.6904122248757507</text>\n",
       "</g>\n",
       "<!-- Agg -->\n",
       "<g id=\"node3\" class=\"node\">\n",
       "<title>Agg</title>\n",
       "<polygon fill=\"none\" stroke=\"#000000\" points=\"54,-123 0,-123 0,-87 54,-87 54,-123\"/>\n",
       "<text text-anchor=\"middle\" x=\"27\" y=\"-101.3\" font-family=\"Times,serif\" font-size=\"14.00\" fill=\"#000000\">&#45;1</text>\n",
       "</g>\n",
       "<!-- Ag&#45;&gt;Agg -->\n",
       "<g id=\"edge3\" class=\"edge\">\n",
       "<title>Ag&#45;&gt;Agg</title>\n",
       "<path fill=\"none\" stroke=\"#000000\" d=\"M81.6279,-187.6767C63.2308,-183.1481 39.9204,-174.0454 28,-156 23.6558,-149.4236 22.2113,-141.2557 22.1754,-133.3978\"/>\n",
       "<polygon fill=\"#000000\" stroke=\"#000000\" points=\"25.6689,-133.6093 22.8141,-123.4063 18.6832,-133.1626 25.6689,-133.6093\"/>\n",
       "<text text-anchor=\"middle\" x=\"97.5\" y=\"-144.8\" font-family=\"Times,serif\" font-size=\"14.00\" fill=\"#000000\">&lt;=0.6806421005434019</text>\n",
       "</g>\n",
       "<!-- Agd -->\n",
       "<g id=\"node4\" class=\"node\">\n",
       "<title>Agd</title>\n",
       "<ellipse fill=\"none\" stroke=\"#000000\" cx=\"189\" cy=\"-105\" rx=\"27\" ry=\"18\"/>\n",
       "<text text-anchor=\"middle\" x=\"189\" y=\"-101.3\" font-family=\"Times,serif\" font-size=\"14.00\" fill=\"#000000\">0</text>\n",
       "</g>\n",
       "<!-- Ag&#45;&gt;Agd -->\n",
       "<g id=\"edge4\" class=\"edge\">\n",
       "<title>Ag&#45;&gt;Agd</title>\n",
       "<path fill=\"none\" stroke=\"#000000\" d=\"M130.8111,-182.2637C142.8681,-176.1733 157.1653,-167.3248 167,-156 172.8436,-149.2711 177.3352,-140.7535 180.6895,-132.6159\"/>\n",
       "<polygon fill=\"#000000\" stroke=\"#000000\" points=\"184.0507,-133.6172 184.2313,-123.0239 177.484,-131.1924 184.0507,-133.6172\"/>\n",
       "<text text-anchor=\"middle\" x=\"242.5\" y=\"-144.8\" font-family=\"Times,serif\" font-size=\"14.00\" fill=\"#000000\">&gt;0.6806421005434019</text>\n",
       "</g>\n",
       "<!-- Agdg -->\n",
       "<g id=\"node5\" class=\"node\">\n",
       "<title>Agdg</title>\n",
       "<polygon fill=\"none\" stroke=\"#000000\" points=\"142,-36 88,-36 88,0 142,0 142,-36\"/>\n",
       "<text text-anchor=\"middle\" x=\"115\" y=\"-14.3\" font-family=\"Times,serif\" font-size=\"14.00\" fill=\"#000000\">1</text>\n",
       "</g>\n",
       "<!-- Agd&#45;&gt;Agdg -->\n",
       "<g id=\"edge1\" class=\"edge\">\n",
       "<title>Agd&#45;&gt;Agdg</title>\n",
       "<path fill=\"none\" stroke=\"#000000\" d=\"M163.0744,-99.4869C146.5602,-94.5003 126.3837,-85.339 116,-69 111.82,-62.4227 110.3956,-54.3409 110.3262,-46.5662\"/>\n",
       "<polygon fill=\"#000000\" stroke=\"#000000\" points=\"113.8354,-46.5162 110.94,-36.3247 106.848,-46.0974 113.8354,-46.5162\"/>\n",
       "<text text-anchor=\"middle\" x=\"178.5\" y=\"-57.8\" font-family=\"Times,serif\" font-size=\"14.00\" fill=\"#000000\">&lt;=1.82697775087493</text>\n",
       "</g>\n",
       "<!-- Agdd -->\n",
       "<g id=\"node6\" class=\"node\">\n",
       "<title>Agdd</title>\n",
       "<polygon fill=\"none\" stroke=\"#000000\" points=\"290,-36 236,-36 236,0 290,0 290,-36\"/>\n",
       "<text text-anchor=\"middle\" x=\"263\" y=\"-14.3\" font-family=\"Times,serif\" font-size=\"14.00\" fill=\"#000000\">&#45;1</text>\n",
       "</g>\n",
       "<!-- Agd&#45;&gt;Agdd -->\n",
       "<g id=\"edge2\" class=\"edge\">\n",
       "<title>Agd&#45;&gt;Agdd</title>\n",
       "<path fill=\"none\" stroke=\"#000000\" d=\"M210.3654,-93.9452C220.7034,-87.7407 232.651,-79.1934 241,-69 246.5602,-62.2114 250.9473,-53.8049 254.2928,-45.7884\"/>\n",
       "<polygon fill=\"#000000\" stroke=\"#000000\" points=\"257.6029,-46.93 257.8657,-36.3385 251.0553,-44.4544 257.6029,-46.93\"/>\n",
       "<text text-anchor=\"middle\" x=\"309.5\" y=\"-57.8\" font-family=\"Times,serif\" font-size=\"14.00\" fill=\"#000000\">&gt;1.82697775087493</text>\n",
       "</g>\n",
       "</g>\n",
       "</svg>\n"
      ],
      "text/plain": [
       "<graphviz.dot.Digraph at 0x11fd50b00>"
      ]
     },
     "execution_count": 27,
     "metadata": {},
     "output_type": "execute_result"
    }
   ],
   "source": [
    "#test de l'affichage \n",
    "abin = construit_AD(the_set, 0.1)\n",
    "gtree = gv.Digraph(format='png')\n",
    "abin.to_graph(gtree)"
   ]
  },
  {
   "cell_type": "markdown",
   "metadata": {},
   "source": [
    "### Classification avec arbre de décision\n"
   ]
  },
  {
   "cell_type": "markdown",
   "metadata": {},
   "source": [
    "Pour classer un nouvel exemple avec un arbre de décision, il faut parcourir l'arbre, de la racine vers une feuille en respectant les tests rencontrés dans chaque arc. Une fois atteint une feuille, la classe de l'exemple est celle présente dans la feuille.\n",
    "\n",
    "La classe ArbreBinaire contient déjà une fonction <code>classifie</code> qui permet de classer un nouvel exemple et de renvoyer la classe +1 ou -1 selon le cas."
   ]
  },
  {
   "cell_type": "markdown",
   "metadata": {},
   "source": [
    "### Implémentation"
   ]
  },
  {
   "cell_type": "markdown",
   "metadata": {},
   "source": [
    "On définit le classifieur <code>ArbreDecision</code> comme suit.\n",
    "\n",
    "Si toutes les fonctions précédentes ont été écrites correctement, il est maintenant possible de construire un arbre de décision à partir de la base jouet.\n"
   ]
  },
  {
   "cell_type": "markdown",
   "metadata": {},
   "source": [
    "## Applications à des données réelles"
   ]
  },
  {
   "cell_type": "code",
   "execution_count": 28,
   "metadata": {},
   "outputs": [],
   "source": [
    "class ArbreDecision(cl.Classifier):\n",
    "    # Constructeur\n",
    "    def __init__(self,epsilon):\n",
    "        # valeur seuil d'entropie pour arrêter la construction\n",
    "        self.epsilon= epsilon\n",
    "        self.racine = None\n",
    "    \n",
    "    # Permet de calculer la prediction sur x => renvoie un score\n",
    "    def predict(self,x):\n",
    "        # classification de l'exemple x avec l'arbre de décision\n",
    "        # on rend 0 (classe -1) ou 1 (classe 1)\n",
    "        classe = self.racine.classifie(x)\n",
    "        if (classe == 1):\n",
    "            return(1)\n",
    "        else:\n",
    "            return(-1)\n",
    "    \n",
    "    # Permet d'entrainer le modele sur un ensemble de données\n",
    "    def train(self,set):\n",
    "        # construction de l'arbre de décision \n",
    "        self.set=set\n",
    "        self.racine = construit_AD(set,self.epsilon)\n",
    "\n",
    "    # Permet d'afficher l'arbre\n",
    "    def plot(self):\n",
    "        gtree = gv.Digraph(format='png')\n",
    "        return self.racine.to_graph(gtree)\n",
    "        "
   ]
  },
  {
   "cell_type": "code",
   "execution_count": 29,
   "metadata": {},
   "outputs": [
    {
     "data": {
      "image/png": "[encoded data removed]",
      "text/plain": [
       "<Figure size 432x288 with 1 Axes>"
      ]
     },
     "metadata": {
      "needs_background": "light"
     },
     "output_type": "display_data"
    }
   ],
   "source": [
    "# un exemple d'utilisation:\n",
    "ad=ArbreDecision(0.1)          # initialiation d'un arbre binaire qui utilisera epsilon= 0.0\n",
    "ad.train(the_set)              # construction de l'arbre à partir de la base jouet\n",
    "ut.plot_frontiere(the_set,ad,20)  # tracé graphique de la frontière de décision\n",
    "ut.plot2DSet(the_set) "
   ]
  },
  {
   "cell_type": "code",
   "execution_count": 30,
   "metadata": {},
   "outputs": [
    {
     "data": {
      "image/svg+xml": [
       "<?xml version=\"1.0\" encoding=\"UTF-8\" standalone=\"no\"?>\n",
       "<!DOCTYPE svg PUBLIC \"-//W3C//DTD SVG 1.1//EN\"\n",
       " \"http://www.w3.org/Graphics/SVG/1.1/DTD/svg11.dtd\">\n",
       "<!-- Generated by graphviz version 2.40.1 (20161225.0304)\n",
       " -->\n",
       "<!-- Title: %3 Pages: 1 -->\n",
       "<svg width=\"397pt\" height=\"305pt\"\n",
       " viewBox=\"0.00 0.00 397.00 305.00\" xmlns=\"http://www.w3.org/2000/svg\" xmlns:xlink=\"http://www.w3.org/1999/xlink\">\n",
       "<g id=\"graph0\" class=\"graph\" transform=\"scale(1 1) rotate(0) translate(4 301)\">\n",
       "<title>%3</title>\n",
       "<polygon fill=\"#ffffff\" stroke=\"transparent\" points=\"-4,4 -4,-301 393,-301 393,4 -4,4\"/>\n",
       "<!-- A -->\n",
       "<g id=\"node1\" class=\"node\">\n",
       "<title>A</title>\n",
       "<ellipse fill=\"none\" stroke=\"#000000\" cx=\"189\" cy=\"-279\" rx=\"27\" ry=\"18\"/>\n",
       "<text text-anchor=\"middle\" x=\"189\" y=\"-275.3\" font-family=\"Times,serif\" font-size=\"14.00\" fill=\"#000000\">1</text>\n",
       "</g>\n",
       "<!-- Ag -->\n",
       "<g id=\"node2\" class=\"node\">\n",
       "<title>Ag</title>\n",
       "<ellipse fill=\"none\" stroke=\"#000000\" cx=\"108\" cy=\"-192\" rx=\"27\" ry=\"18\"/>\n",
       "<text text-anchor=\"middle\" x=\"108\" y=\"-188.3\" font-family=\"Times,serif\" font-size=\"14.00\" fill=\"#000000\">0</text>\n",
       "</g>\n",
       "<!-- A&#45;&gt;Ag -->\n",
       "<g id=\"edge5\" class=\"edge\">\n",
       "<title>A&#45;&gt;Ag</title>\n",
       "<path fill=\"none\" stroke=\"#000000\" d=\"M162.6279,-274.6767C144.2308,-270.1481 120.9204,-261.0454 109,-243 104.5879,-236.3208 103.1669,-228.0001 103.1747,-220.0297\"/>\n",
       "<polygon fill=\"#000000\" stroke=\"#000000\" points=\"106.6754,-220.1398 103.8767,-209.9213 99.6922,-219.6547 106.6754,-220.1398\"/>\n",
       "<text text-anchor=\"middle\" x=\"178.5\" y=\"-231.8\" font-family=\"Times,serif\" font-size=\"14.00\" fill=\"#000000\">&lt;=0.6904122248757507</text>\n",
       "</g>\n",
       "<!-- Ad -->\n",
       "<g id=\"node7\" class=\"node\">\n",
       "<title>Ad</title>\n",
       "<polygon fill=\"none\" stroke=\"#000000\" points=\"297,-210 243,-210 243,-174 297,-174 297,-210\"/>\n",
       "<text text-anchor=\"middle\" x=\"270\" y=\"-188.3\" font-family=\"Times,serif\" font-size=\"14.00\" fill=\"#000000\">1</text>\n",
       "</g>\n",
       "<!-- A&#45;&gt;Ad -->\n",
       "<g id=\"edge6\" class=\"edge\">\n",
       "<title>A&#45;&gt;Ad</title>\n",
       "<path fill=\"none\" stroke=\"#000000\" d=\"M211.8111,-269.2637C223.8681,-263.1733 238.1653,-254.3248 248,-243 253.8436,-236.2711 258.3352,-227.7535 261.6895,-219.6159\"/>\n",
       "<polygon fill=\"#000000\" stroke=\"#000000\" points=\"265.0507,-220.6172 265.2313,-210.0239 258.484,-218.1924 265.0507,-220.6172\"/>\n",
       "<text text-anchor=\"middle\" x=\"323.5\" y=\"-231.8\" font-family=\"Times,serif\" font-size=\"14.00\" fill=\"#000000\">&gt;0.6904122248757507</text>\n",
       "</g>\n",
       "<!-- Agg -->\n",
       "<g id=\"node3\" class=\"node\">\n",
       "<title>Agg</title>\n",
       "<polygon fill=\"none\" stroke=\"#000000\" points=\"54,-123 0,-123 0,-87 54,-87 54,-123\"/>\n",
       "<text text-anchor=\"middle\" x=\"27\" y=\"-101.3\" font-family=\"Times,serif\" font-size=\"14.00\" fill=\"#000000\">&#45;1</text>\n",
       "</g>\n",
       "<!-- Ag&#45;&gt;Agg -->\n",
       "<g id=\"edge3\" class=\"edge\">\n",
       "<title>Ag&#45;&gt;Agg</title>\n",
       "<path fill=\"none\" stroke=\"#000000\" d=\"M81.6279,-187.6767C63.2308,-183.1481 39.9204,-174.0454 28,-156 23.6558,-149.4236 22.2113,-141.2557 22.1754,-133.3978\"/>\n",
       "<polygon fill=\"#000000\" stroke=\"#000000\" points=\"25.6689,-133.6093 22.8141,-123.4063 18.6832,-133.1626 25.6689,-133.6093\"/>\n",
       "<text text-anchor=\"middle\" x=\"97.5\" y=\"-144.8\" font-family=\"Times,serif\" font-size=\"14.00\" fill=\"#000000\">&lt;=0.6806421005434019</text>\n",
       "</g>\n",
       "<!-- Agd -->\n",
       "<g id=\"node4\" class=\"node\">\n",
       "<title>Agd</title>\n",
       "<ellipse fill=\"none\" stroke=\"#000000\" cx=\"189\" cy=\"-105\" rx=\"27\" ry=\"18\"/>\n",
       "<text text-anchor=\"middle\" x=\"189\" y=\"-101.3\" font-family=\"Times,serif\" font-size=\"14.00\" fill=\"#000000\">0</text>\n",
       "</g>\n",
       "<!-- Ag&#45;&gt;Agd -->\n",
       "<g id=\"edge4\" class=\"edge\">\n",
       "<title>Ag&#45;&gt;Agd</title>\n",
       "<path fill=\"none\" stroke=\"#000000\" d=\"M130.8111,-182.2637C142.8681,-176.1733 157.1653,-167.3248 167,-156 172.8436,-149.2711 177.3352,-140.7535 180.6895,-132.6159\"/>\n",
       "<polygon fill=\"#000000\" stroke=\"#000000\" points=\"184.0507,-133.6172 184.2313,-123.0239 177.484,-131.1924 184.0507,-133.6172\"/>\n",
       "<text text-anchor=\"middle\" x=\"242.5\" y=\"-144.8\" font-family=\"Times,serif\" font-size=\"14.00\" fill=\"#000000\">&gt;0.6806421005434019</text>\n",
       "</g>\n",
       "<!-- Agdg -->\n",
       "<g id=\"node5\" class=\"node\">\n",
       "<title>Agdg</title>\n",
       "<polygon fill=\"none\" stroke=\"#000000\" points=\"142,-36 88,-36 88,0 142,0 142,-36\"/>\n",
       "<text text-anchor=\"middle\" x=\"115\" y=\"-14.3\" font-family=\"Times,serif\" font-size=\"14.00\" fill=\"#000000\">1</text>\n",
       "</g>\n",
       "<!-- Agd&#45;&gt;Agdg -->\n",
       "<g id=\"edge1\" class=\"edge\">\n",
       "<title>Agd&#45;&gt;Agdg</title>\n",
       "<path fill=\"none\" stroke=\"#000000\" d=\"M163.0744,-99.4869C146.5602,-94.5003 126.3837,-85.339 116,-69 111.82,-62.4227 110.3956,-54.3409 110.3262,-46.5662\"/>\n",
       "<polygon fill=\"#000000\" stroke=\"#000000\" points=\"113.8354,-46.5162 110.94,-36.3247 106.848,-46.0974 113.8354,-46.5162\"/>\n",
       "<text text-anchor=\"middle\" x=\"178.5\" y=\"-57.8\" font-family=\"Times,serif\" font-size=\"14.00\" fill=\"#000000\">&lt;=1.82697775087493</text>\n",
       "</g>\n",
       "<!-- Agdd -->\n",
       "<g id=\"node6\" class=\"node\">\n",
       "<title>Agdd</title>\n",
       "<polygon fill=\"none\" stroke=\"#000000\" points=\"290,-36 236,-36 236,0 290,0 290,-36\"/>\n",
       "<text text-anchor=\"middle\" x=\"263\" y=\"-14.3\" font-family=\"Times,serif\" font-size=\"14.00\" fill=\"#000000\">&#45;1</text>\n",
       "</g>\n",
       "<!-- Agd&#45;&gt;Agdd -->\n",
       "<g id=\"edge2\" class=\"edge\">\n",
       "<title>Agd&#45;&gt;Agdd</title>\n",
       "<path fill=\"none\" stroke=\"#000000\" d=\"M210.3654,-93.9452C220.7034,-87.7407 232.651,-79.1934 241,-69 246.5602,-62.2114 250.9473,-53.8049 254.2928,-45.7884\"/>\n",
       "<polygon fill=\"#000000\" stroke=\"#000000\" points=\"257.6029,-46.93 257.8657,-36.3385 251.0553,-44.4544 257.6029,-46.93\"/>\n",
       "<text text-anchor=\"middle\" x=\"309.5\" y=\"-57.8\" font-family=\"Times,serif\" font-size=\"14.00\" fill=\"#000000\">&gt;1.82697775087493</text>\n",
       "</g>\n",
       "</g>\n",
       "</svg>\n"
      ],
      "text/plain": [
       "<graphviz.dot.Digraph at 0x11fe6c0f0>"
      ]
     },
     "execution_count": 30,
     "metadata": {},
     "output_type": "execute_result"
    }
   ],
   "source": [
    "ad.plot()"
   ]
  },
  {
   "cell_type": "markdown",
   "metadata": {},
   "source": [
    "<font color=\"RED\" size=\"+1\">**[Q]**</font> Appliquer l'algorithme des arbres de décision à des données réelles (par exemple, celles utilisées avec les k-nn) et comparer les résultats obtenus par les 2 algorithmes.\n",
    "\n",
    "Un autre exemple d'utilisation sur une base plus grande:"
   ]
  },
  {
   "cell_type": "code",
   "execution_count": 31,
   "metadata": {
    "scrolled": true
   },
   "outputs": [
    {
     "name": "stdout",
     "output_type": "stream",
     "text": [
      "Taille de la base générée : 200 exemples\n"
     ]
    },
    {
     "data": {
      "image/png": "[encoded data removed]",
      "text/plain": [
       "<Figure size 432x288 with 1 Axes>"
      ]
     },
     "metadata": {
      "needs_background": "light"
     },
     "output_type": "display_data"
    }
   ],
   "source": [
    "autre_set=ut.createGaussianDataset(np.array([1,1]),np.array([[1,0],[0,1]]),np.array([-1,-1]),np.array([[1,0],[0,1]]),100)\n",
    "print(\"Taille de la base générée :\", autre_set.size(), \"exemples\")\n",
    "adautre=ArbreDecision(0.1)          \n",
    "adautre.train(autre_set)            \n",
    "ut.plot_frontiere(autre_set,adautre,20)\n",
    "ut.plot2DSet(autre_set) "
   ]
  },
  {
   "cell_type": "code",
   "execution_count": 32,
   "metadata": {
    "scrolled": true
   },
   "outputs": [
    {
     "data": {
      "image/svg+xml": [
       "<?xml version=\"1.0\" encoding=\"UTF-8\" standalone=\"no\"?>\n",
       "<!DOCTYPE svg PUBLIC \"-//W3C//DTD SVG 1.1//EN\"\n",
       " \"http://www.w3.org/Graphics/SVG/1.1/DTD/svg11.dtd\">\n",
       "<!-- Generated by graphviz version 2.40.1 (20161225.0304)\n",
       " -->\n",
       "<!-- Title: %3 Pages: 1 -->\n",
       "<svg width=\"1593pt\" height=\"653pt\"\n",
       " viewBox=\"0.00 0.00 1593.00 653.00\" xmlns=\"http://www.w3.org/2000/svg\" xmlns:xlink=\"http://www.w3.org/1999/xlink\">\n",
       "<g id=\"graph0\" class=\"graph\" transform=\"scale(1 1) rotate(0) translate(4 649)\">\n",
       "<title>%3</title>\n",
       "<polygon fill=\"#ffffff\" stroke=\"transparent\" points=\"-4,4 -4,-649 1589,-649 1589,4 -4,4\"/>\n",
       "<!-- A -->\n",
       "<g id=\"node1\" class=\"node\">\n",
       "<title>A</title>\n",
       "<ellipse fill=\"none\" stroke=\"#000000\" cx=\"729\" cy=\"-627\" rx=\"27\" ry=\"18\"/>\n",
       "<text text-anchor=\"middle\" x=\"729\" y=\"-623.3\" font-family=\"Times,serif\" font-size=\"14.00\" fill=\"#000000\">1</text>\n",
       "</g>\n",
       "<!-- Ag -->\n",
       "<g id=\"node2\" class=\"node\">\n",
       "<title>Ag</title>\n",
       "<ellipse fill=\"none\" stroke=\"#000000\" cx=\"615\" cy=\"-540\" rx=\"27\" ry=\"18\"/>\n",
       "<text text-anchor=\"middle\" x=\"615\" y=\"-536.3\" font-family=\"Times,serif\" font-size=\"14.00\" fill=\"#000000\">0</text>\n",
       "</g>\n",
       "<!-- A&#45;&gt;Ag -->\n",
       "<g id=\"edge37\" class=\"edge\">\n",
       "<title>A&#45;&gt;Ag</title>\n",
       "<path fill=\"none\" stroke=\"#000000\" d=\"M703.1921,-621.0859C684.679,-615.7665 660.0876,-606.3714 643,-591 635.6102,-584.3524 629.7643,-575.2795 625.3673,-566.6282\"/>\n",
       "<polygon fill=\"#000000\" stroke=\"#000000\" points=\"628.5376,-565.1451 621.1602,-557.5408 622.1853,-568.086 628.5376,-565.1451\"/>\n",
       "<text text-anchor=\"middle\" x=\"718\" y=\"-579.8\" font-family=\"Times,serif\" font-size=\"14.00\" fill=\"#000000\">&lt;=&#45;0.08052383851859968</text>\n",
       "</g>\n",
       "<!-- Ad -->\n",
       "<g id=\"node19\" class=\"node\">\n",
       "<title>Ad</title>\n",
       "<ellipse fill=\"none\" stroke=\"#000000\" cx=\"837\" cy=\"-540\" rx=\"27\" ry=\"18\"/>\n",
       "<text text-anchor=\"middle\" x=\"837\" y=\"-536.3\" font-family=\"Times,serif\" font-size=\"14.00\" fill=\"#000000\">0</text>\n",
       "</g>\n",
       "<!-- A&#45;&gt;Ad -->\n",
       "<g id=\"edge38\" class=\"edge\">\n",
       "<title>A&#45;&gt;Ad</title>\n",
       "<path fill=\"none\" stroke=\"#000000\" d=\"M752.2022,-617.6603C766.0829,-611.3872 783.5745,-602.2234 797,-591 805.8977,-583.5618 814.1142,-573.8467 820.756,-564.8936\"/>\n",
       "<polygon fill=\"#000000\" stroke=\"#000000\" points=\"823.6785,-566.823 826.6122,-556.6424 817.9701,-562.7715 823.6785,-566.823\"/>\n",
       "<text text-anchor=\"middle\" x=\"882.5\" y=\"-579.8\" font-family=\"Times,serif\" font-size=\"14.00\" fill=\"#000000\">&gt;&#45;0.08052383851859968</text>\n",
       "</g>\n",
       "<!-- Agg -->\n",
       "<g id=\"node3\" class=\"node\">\n",
       "<title>Agg</title>\n",
       "<polygon fill=\"none\" stroke=\"#000000\" points=\"476,-471 422,-471 422,-435 476,-435 476,-471\"/>\n",
       "<text text-anchor=\"middle\" x=\"449\" y=\"-449.3\" font-family=\"Times,serif\" font-size=\"14.00\" fill=\"#000000\">&#45;1</text>\n",
       "</g>\n",
       "<!-- Ag&#45;&gt;Agg -->\n",
       "<g id=\"edge15\" class=\"edge\">\n",
       "<title>Ag&#45;&gt;Agg</title>\n",
       "<path fill=\"none\" stroke=\"#000000\" d=\"M587.9399,-538.2611C544.8129,-534.8633 463.5524,-525.6852 446,-504 440.8993,-497.6984 439.8236,-489.3949 440.5488,-481.3224\"/>\n",
       "<polygon fill=\"#000000\" stroke=\"#000000\" points=\"444.0113,-481.8387 442.2631,-471.3891 437.1133,-480.6481 444.0113,-481.8387\"/>\n",
       "<text text-anchor=\"middle\" x=\"517.5\" y=\"-492.8\" font-family=\"Times,serif\" font-size=\"14.00\" fill=\"#000000\">&lt;=&#45;0.8519492827589801</text>\n",
       "</g>\n",
       "<!-- Agd -->\n",
       "<g id=\"node4\" class=\"node\">\n",
       "<title>Agd</title>\n",
       "<ellipse fill=\"none\" stroke=\"#000000\" cx=\"568\" cy=\"-453\" rx=\"27\" ry=\"18\"/>\n",
       "<text text-anchor=\"middle\" x=\"568\" y=\"-449.3\" font-family=\"Times,serif\" font-size=\"14.00\" fill=\"#000000\">1</text>\n",
       "</g>\n",
       "<!-- Ag&#45;&gt;Agd -->\n",
       "<g id=\"edge16\" class=\"edge\">\n",
       "<title>Ag&#45;&gt;Agd</title>\n",
       "<path fill=\"none\" stroke=\"#000000\" d=\"M608.3072,-522.1189C604.3225,-512.1415 598.9008,-499.6209 593,-489 590.9213,-485.2585 588.549,-481.4231 586.1127,-477.7158\"/>\n",
       "<polygon fill=\"#000000\" stroke=\"#000000\" points=\"588.9573,-475.6752 580.4193,-469.4021 583.1818,-479.6304 588.9573,-475.6752\"/>\n",
       "<text text-anchor=\"middle\" x=\"669\" y=\"-492.8\" font-family=\"Times,serif\" font-size=\"14.00\" fill=\"#000000\">&gt;&#45;0.8519492827589801</text>\n",
       "</g>\n",
       "<!-- Agdg -->\n",
       "<g id=\"node5\" class=\"node\">\n",
       "<title>Agdg</title>\n",
       "<ellipse fill=\"none\" stroke=\"#000000\" cx=\"368\" cy=\"-366\" rx=\"27\" ry=\"18\"/>\n",
       "<text text-anchor=\"middle\" x=\"368\" y=\"-362.3\" font-family=\"Times,serif\" font-size=\"14.00\" fill=\"#000000\">1</text>\n",
       "</g>\n",
       "<!-- Agd&#45;&gt;Agdg -->\n",
       "<g id=\"edge13\" class=\"edge\">\n",
       "<title>Agd&#45;&gt;Agdg</title>\n",
       "<path fill=\"none\" stroke=\"#000000\" d=\"M542.1696,-447.4419C502.8964,-438.876 431.5885,-422.8282 421,-417 408.4654,-410.1007 396.7502,-399.4709 387.5383,-389.6978\"/>\n",
       "<polygon fill=\"#000000\" stroke=\"#000000\" points=\"390.0139,-387.2168 380.7193,-382.1314 384.814,-391.903 390.0139,-387.2168\"/>\n",
       "<text text-anchor=\"middle\" x=\"492.5\" y=\"-405.8\" font-family=\"Times,serif\" font-size=\"14.00\" fill=\"#000000\">&lt;=&#45;0.6428686813551103</text>\n",
       "</g>\n",
       "<!-- Agdd -->\n",
       "<g id=\"node16\" class=\"node\">\n",
       "<title>Agdd</title>\n",
       "<ellipse fill=\"none\" stroke=\"#000000\" cx=\"568\" cy=\"-366\" rx=\"27\" ry=\"18\"/>\n",
       "<text text-anchor=\"middle\" x=\"568\" y=\"-362.3\" font-family=\"Times,serif\" font-size=\"14.00\" fill=\"#000000\">1</text>\n",
       "</g>\n",
       "<!-- Agd&#45;&gt;Agdd -->\n",
       "<g id=\"edge14\" class=\"edge\">\n",
       "<title>Agd&#45;&gt;Agdd</title>\n",
       "<path fill=\"none\" stroke=\"#000000\" d=\"M568,-434.9735C568,-423.1918 568,-407.5607 568,-394.1581\"/>\n",
       "<polygon fill=\"#000000\" stroke=\"#000000\" points=\"571.5001,-394.0033 568,-384.0034 564.5001,-394.0034 571.5001,-394.0033\"/>\n",
       "<text text-anchor=\"middle\" x=\"636\" y=\"-405.8\" font-family=\"Times,serif\" font-size=\"14.00\" fill=\"#000000\">&gt;&#45;0.6428686813551103</text>\n",
       "</g>\n",
       "<!-- Agdgg -->\n",
       "<g id=\"node6\" class=\"node\">\n",
       "<title>Agdgg</title>\n",
       "<ellipse fill=\"none\" stroke=\"#000000\" cx=\"200\" cy=\"-279\" rx=\"27\" ry=\"18\"/>\n",
       "<text text-anchor=\"middle\" x=\"200\" y=\"-275.3\" font-family=\"Times,serif\" font-size=\"14.00\" fill=\"#000000\">0</text>\n",
       "</g>\n",
       "<!-- Agdg&#45;&gt;Agdgg -->\n",
       "<g id=\"edge9\" class=\"edge\">\n",
       "<title>Agdg&#45;&gt;Agdgg</title>\n",
       "<path fill=\"none\" stroke=\"#000000\" d=\"M341.255,-362.3959C303.9579,-356.8879 238.8808,-345.3746 221,-330 214.0072,-323.9873 209.3037,-315.2802 206.1567,-306.7571\"/>\n",
       "<polygon fill=\"#000000\" stroke=\"#000000\" points=\"209.4386,-305.5231 203.1335,-297.0087 202.7527,-307.5967 209.4386,-305.5231\"/>\n",
       "<text text-anchor=\"middle\" x=\"292.5\" y=\"-318.8\" font-family=\"Times,serif\" font-size=\"14.00\" fill=\"#000000\">&lt;=&#45;1.1047352656753042</text>\n",
       "</g>\n",
       "<!-- Agdgd -->\n",
       "<g id=\"node11\" class=\"node\">\n",
       "<title>Agdgd</title>\n",
       "<ellipse fill=\"none\" stroke=\"#000000\" cx=\"368\" cy=\"-279\" rx=\"27\" ry=\"18\"/>\n",
       "<text text-anchor=\"middle\" x=\"368\" y=\"-275.3\" font-family=\"Times,serif\" font-size=\"14.00\" fill=\"#000000\">0</text>\n",
       "</g>\n",
       "<!-- Agdg&#45;&gt;Agdgd -->\n",
       "<g id=\"edge10\" class=\"edge\">\n",
       "<title>Agdg&#45;&gt;Agdgd</title>\n",
       "<path fill=\"none\" stroke=\"#000000\" d=\"M368,-347.9735C368,-336.1918 368,-320.5607 368,-307.1581\"/>\n",
       "<polygon fill=\"#000000\" stroke=\"#000000\" points=\"371.5001,-307.0033 368,-297.0034 364.5001,-307.0034 371.5001,-307.0033\"/>\n",
       "<text text-anchor=\"middle\" x=\"436\" y=\"-318.8\" font-family=\"Times,serif\" font-size=\"14.00\" fill=\"#000000\">&gt;&#45;1.1047352656753042</text>\n",
       "</g>\n",
       "<!-- Agdggg -->\n",
       "<g id=\"node7\" class=\"node\">\n",
       "<title>Agdggg</title>\n",
       "<polygon fill=\"none\" stroke=\"#000000\" points=\"54,-210 0,-210 0,-174 54,-174 54,-210\"/>\n",
       "<text text-anchor=\"middle\" x=\"27\" y=\"-188.3\" font-family=\"Times,serif\" font-size=\"14.00\" fill=\"#000000\">&#45;1</text>\n",
       "</g>\n",
       "<!-- Agdgg&#45;&gt;Agdggg -->\n",
       "<g id=\"edge3\" class=\"edge\">\n",
       "<title>Agdgg&#45;&gt;Agdggg</title>\n",
       "<path fill=\"none\" stroke=\"#000000\" d=\"M173.2157,-275.8114C134.2943,-270.6793 64.7015,-259.4657 46,-243 39.1699,-236.9864 34.7897,-228.279 31.9828,-219.756\"/>\n",
       "<polygon fill=\"#000000\" stroke=\"#000000\" points=\"35.3377,-218.7538 29.3579,-210.0078 28.5784,-220.5739 35.3377,-218.7538\"/>\n",
       "<text text-anchor=\"middle\" x=\"121\" y=\"-231.8\" font-family=\"Times,serif\" font-size=\"14.00\" fill=\"#000000\">&lt;=&#45;0.16792910265367622</text>\n",
       "</g>\n",
       "<!-- Agdggd -->\n",
       "<g id=\"node8\" class=\"node\">\n",
       "<title>Agdggd</title>\n",
       "<ellipse fill=\"none\" stroke=\"#000000\" cx=\"200\" cy=\"-192\" rx=\"27\" ry=\"18\"/>\n",
       "<text text-anchor=\"middle\" x=\"200\" y=\"-188.3\" font-family=\"Times,serif\" font-size=\"14.00\" fill=\"#000000\">0</text>\n",
       "</g>\n",
       "<!-- Agdgg&#45;&gt;Agdggd -->\n",
       "<g id=\"edge4\" class=\"edge\">\n",
       "<title>Agdgg&#45;&gt;Agdggd</title>\n",
       "<path fill=\"none\" stroke=\"#000000\" d=\"M200,-260.9735C200,-249.1918 200,-233.5607 200,-220.1581\"/>\n",
       "<polygon fill=\"#000000\" stroke=\"#000000\" points=\"203.5001,-220.0033 200,-210.0034 196.5001,-220.0034 203.5001,-220.0033\"/>\n",
       "<text text-anchor=\"middle\" x=\"271.5\" y=\"-231.8\" font-family=\"Times,serif\" font-size=\"14.00\" fill=\"#000000\">&gt;&#45;0.16792910265367622</text>\n",
       "</g>\n",
       "<!-- Agdggdg -->\n",
       "<g id=\"node9\" class=\"node\">\n",
       "<title>Agdggdg</title>\n",
       "<polygon fill=\"none\" stroke=\"#000000\" points=\"57,-123 3,-123 3,-87 57,-87 57,-123\"/>\n",
       "<text text-anchor=\"middle\" x=\"30\" y=\"-101.3\" font-family=\"Times,serif\" font-size=\"14.00\" fill=\"#000000\">1</text>\n",
       "</g>\n",
       "<!-- Agdggd&#45;&gt;Agdggdg -->\n",
       "<g id=\"edge1\" class=\"edge\">\n",
       "<title>Agdggd&#45;&gt;Agdggdg</title>\n",
       "<path fill=\"none\" stroke=\"#000000\" d=\"M173.2061,-188.7646C134.6802,-183.6078 66.2553,-172.4038 48,-156 41.4459,-150.1106 37.2781,-141.6857 34.6279,-133.3757\"/>\n",
       "<polygon fill=\"#000000\" stroke=\"#000000\" points=\"37.9633,-132.2918 32.0894,-123.4743 31.1826,-134.0303 37.9633,-132.2918\"/>\n",
       "<text text-anchor=\"middle\" x=\"123\" y=\"-144.8\" font-family=\"Times,serif\" font-size=\"14.00\" fill=\"#000000\">&lt;=&#45;0.12692469326716205</text>\n",
       "</g>\n",
       "<!-- Agdggdd -->\n",
       "<g id=\"node10\" class=\"node\">\n",
       "<title>Agdggdd</title>\n",
       "<polygon fill=\"none\" stroke=\"#000000\" points=\"230,-123 176,-123 176,-87 230,-87 230,-123\"/>\n",
       "<text text-anchor=\"middle\" x=\"203\" y=\"-101.3\" font-family=\"Times,serif\" font-size=\"14.00\" fill=\"#000000\">&#45;1</text>\n",
       "</g>\n",
       "<!-- Agdggd&#45;&gt;Agdggdd -->\n",
       "<g id=\"edge2\" class=\"edge\">\n",
       "<title>Agdggd&#45;&gt;Agdggdd</title>\n",
       "<path fill=\"none\" stroke=\"#000000\" d=\"M200.6216,-173.9735C201.0279,-162.1918 201.5669,-146.5607 202.029,-133.1581\"/>\n",
       "<polygon fill=\"#000000\" stroke=\"#000000\" points=\"205.5324,-133.1181 202.3792,-123.0034 198.5366,-132.8768 205.5324,-133.1181\"/>\n",
       "<text text-anchor=\"middle\" x=\"273.5\" y=\"-144.8\" font-family=\"Times,serif\" font-size=\"14.00\" fill=\"#000000\">&gt;&#45;0.12692469326716205</text>\n",
       "</g>\n",
       "<!-- Agdgdg -->\n",
       "<g id=\"node12\" class=\"node\">\n",
       "<title>Agdgdg</title>\n",
       "<polygon fill=\"none\" stroke=\"#000000\" points=\"393,-210 339,-210 339,-174 393,-174 393,-210\"/>\n",
       "<text text-anchor=\"middle\" x=\"366\" y=\"-188.3\" font-family=\"Times,serif\" font-size=\"14.00\" fill=\"#000000\">1</text>\n",
       "</g>\n",
       "<!-- Agdgd&#45;&gt;Agdgdg -->\n",
       "<g id=\"edge7\" class=\"edge\">\n",
       "<title>Agdgd&#45;&gt;Agdgdg</title>\n",
       "<path fill=\"none\" stroke=\"#000000\" d=\"M367.4624,-260.6866C367.3037,-255.0174 367.1362,-248.7506 367,-243 366.8281,-235.743 366.6637,-227.9046 366.5197,-220.6012\"/>\n",
       "<polygon fill=\"#000000\" stroke=\"#000000\" points=\"370.0155,-220.3447 366.3248,-210.4136 363.0168,-220.4787 370.0155,-220.3447\"/>\n",
       "<text text-anchor=\"middle\" x=\"438.5\" y=\"-231.8\" font-family=\"Times,serif\" font-size=\"14.00\" fill=\"#000000\">&lt;=&#45;0.4949983343904036</text>\n",
       "</g>\n",
       "<!-- Agdgdd -->\n",
       "<g id=\"node13\" class=\"node\">\n",
       "<title>Agdgdd</title>\n",
       "<ellipse fill=\"none\" stroke=\"#000000\" cx=\"532\" cy=\"-192\" rx=\"27\" ry=\"18\"/>\n",
       "<text text-anchor=\"middle\" x=\"532\" y=\"-188.3\" font-family=\"Times,serif\" font-size=\"14.00\" fill=\"#000000\">1</text>\n",
       "</g>\n",
       "<!-- Agdgd&#45;&gt;Agdgdd -->\n",
       "<g id=\"edge8\" class=\"edge\">\n",
       "<title>Agdgd&#45;&gt;Agdgdd</title>\n",
       "<path fill=\"none\" stroke=\"#000000\" d=\"M394.4131,-275.1483C430.5036,-269.4182 492.7259,-257.7253 510,-243 517.0678,-236.9751 521.9314,-228.2649 525.249,-219.7428\"/>\n",
       "<polygon fill=\"#000000\" stroke=\"#000000\" points=\"528.6551,-220.5903 528.4727,-209.997 522.0092,-218.3919 528.6551,-220.5903\"/>\n",
       "<text text-anchor=\"middle\" x=\"590\" y=\"-231.8\" font-family=\"Times,serif\" font-size=\"14.00\" fill=\"#000000\">&gt;&#45;0.4949983343904036</text>\n",
       "</g>\n",
       "<!-- Agdgddg -->\n",
       "<g id=\"node14\" class=\"node\">\n",
       "<title>Agdgddg</title>\n",
       "<polygon fill=\"none\" stroke=\"#000000\" points=\"401,-123 347,-123 347,-87 401,-87 401,-123\"/>\n",
       "<text text-anchor=\"middle\" x=\"374\" y=\"-101.3\" font-family=\"Times,serif\" font-size=\"14.00\" fill=\"#000000\">1</text>\n",
       "</g>\n",
       "<!-- Agdgdd&#45;&gt;Agdgddg -->\n",
       "<g id=\"edge5\" class=\"edge\">\n",
       "<title>Agdgdd&#45;&gt;Agdgddg</title>\n",
       "<path fill=\"none\" stroke=\"#000000\" d=\"M505.4403,-188.1003C469.9,-182.3934 409.4299,-170.8162 393,-156 386.4151,-150.0618 382.1047,-141.6239 379.2862,-133.3169\"/>\n",
       "<polygon fill=\"#000000\" stroke=\"#000000\" points=\"382.587,-132.1226 376.5355,-123.426 375.8429,-133.9982 382.587,-132.1226\"/>\n",
       "<text text-anchor=\"middle\" x=\"461\" y=\"-144.8\" font-family=\"Times,serif\" font-size=\"14.00\" fill=\"#000000\">&lt;=&#45;1.066033276034789</text>\n",
       "</g>\n",
       "<!-- Agdgddd -->\n",
       "<g id=\"node15\" class=\"node\">\n",
       "<title>Agdgddd</title>\n",
       "<polygon fill=\"none\" stroke=\"#000000\" points=\"560,-123 506,-123 506,-87 560,-87 560,-123\"/>\n",
       "<text text-anchor=\"middle\" x=\"533\" y=\"-101.3\" font-family=\"Times,serif\" font-size=\"14.00\" fill=\"#000000\">&#45;1</text>\n",
       "</g>\n",
       "<!-- Agdgdd&#45;&gt;Agdgddd -->\n",
       "<g id=\"edge6\" class=\"edge\">\n",
       "<title>Agdgdd&#45;&gt;Agdgddd</title>\n",
       "<path fill=\"none\" stroke=\"#000000\" d=\"M532.2072,-173.9735C532.3426,-162.1918 532.5223,-146.5607 532.6763,-133.1581\"/>\n",
       "<polygon fill=\"#000000\" stroke=\"#000000\" points=\"536.1778,-133.043 532.7931,-123.0034 529.1783,-132.9624 536.1778,-133.043\"/>\n",
       "<text text-anchor=\"middle\" x=\"597.5\" y=\"-144.8\" font-family=\"Times,serif\" font-size=\"14.00\" fill=\"#000000\">&gt;&#45;1.066033276034789</text>\n",
       "</g>\n",
       "<!-- Agddg -->\n",
       "<g id=\"node17\" class=\"node\">\n",
       "<title>Agddg</title>\n",
       "<polygon fill=\"none\" stroke=\"#000000\" points=\"558,-297 504,-297 504,-261 558,-261 558,-297\"/>\n",
       "<text text-anchor=\"middle\" x=\"531\" y=\"-275.3\" font-family=\"Times,serif\" font-size=\"14.00\" fill=\"#000000\">1</text>\n",
       "</g>\n",
       "<!-- Agdd&#45;&gt;Agddg -->\n",
       "<g id=\"edge11\" class=\"edge\">\n",
       "<title>Agdd&#45;&gt;Agddg</title>\n",
       "<path fill=\"none\" stroke=\"#000000\" d=\"M549.565,-352.6222C542.7308,-346.5626 535.7393,-338.7831 532,-330 528.995,-322.9417 527.9091,-314.8206 527.7877,-307.1642\"/>\n",
       "<polygon fill=\"#000000\" stroke=\"#000000\" points=\"531.286,-307.269 528.1302,-297.1551 524.2901,-307.0295 531.286,-307.269\"/>\n",
       "<text text-anchor=\"middle\" x=\"603.5\" y=\"-318.8\" font-family=\"Times,serif\" font-size=\"14.00\" fill=\"#000000\">&lt;=&#45;0.2749376098931661</text>\n",
       "</g>\n",
       "<!-- Agddd -->\n",
       "<g id=\"node18\" class=\"node\">\n",
       "<title>Agddd</title>\n",
       "<polygon fill=\"none\" stroke=\"#000000\" points=\"724,-297 670,-297 670,-261 724,-261 724,-297\"/>\n",
       "<text text-anchor=\"middle\" x=\"697\" y=\"-275.3\" font-family=\"Times,serif\" font-size=\"14.00\" fill=\"#000000\">&#45;1</text>\n",
       "</g>\n",
       "<!-- Agdd&#45;&gt;Agddd -->\n",
       "<g id=\"edge12\" class=\"edge\">\n",
       "<title>Agdd&#45;&gt;Agddd</title>\n",
       "<path fill=\"none\" stroke=\"#000000\" d=\"M594.8472,-363.1448C618.5829,-359.3176 652.793,-350.4423 675,-330 681.731,-323.8039 686.4945,-315.1956 689.8245,-306.8142\"/>\n",
       "<polygon fill=\"#000000\" stroke=\"#000000\" points=\"693.1755,-307.832 693.107,-297.2374 686.5536,-305.5623 693.1755,-307.832\"/>\n",
       "<text text-anchor=\"middle\" x=\"754\" y=\"-318.8\" font-family=\"Times,serif\" font-size=\"14.00\" fill=\"#000000\">&gt;&#45;0.2749376098931661</text>\n",
       "</g>\n",
       "<!-- Adg -->\n",
       "<g id=\"node20\" class=\"node\">\n",
       "<title>Adg</title>\n",
       "<polygon fill=\"none\" stroke=\"#000000\" points=\"864,-471 810,-471 810,-435 864,-435 864,-471\"/>\n",
       "<text text-anchor=\"middle\" x=\"837\" y=\"-449.3\" font-family=\"Times,serif\" font-size=\"14.00\" fill=\"#000000\">&#45;1</text>\n",
       "</g>\n",
       "<!-- Ad&#45;&gt;Adg -->\n",
       "<g id=\"edge35\" class=\"edge\">\n",
       "<title>Ad&#45;&gt;Adg</title>\n",
       "<path fill=\"none\" stroke=\"#000000\" d=\"M837,-521.9735C837,-510.1918 837,-494.5607 837,-481.1581\"/>\n",
       "<polygon fill=\"#000000\" stroke=\"#000000\" points=\"840.5001,-481.0033 837,-471.0034 833.5001,-481.0034 840.5001,-481.0033\"/>\n",
       "<text text-anchor=\"middle\" x=\"908.5\" y=\"-492.8\" font-family=\"Times,serif\" font-size=\"14.00\" fill=\"#000000\">&lt;=&#45;1.0930981321949793</text>\n",
       "</g>\n",
       "<!-- Add -->\n",
       "<g id=\"node21\" class=\"node\">\n",
       "<title>Add</title>\n",
       "<ellipse fill=\"none\" stroke=\"#000000\" cx=\"1009\" cy=\"-453\" rx=\"27\" ry=\"18\"/>\n",
       "<text text-anchor=\"middle\" x=\"1009\" y=\"-449.3\" font-family=\"Times,serif\" font-size=\"14.00\" fill=\"#000000\">1</text>\n",
       "</g>\n",
       "<!-- Ad&#45;&gt;Add -->\n",
       "<g id=\"edge36\" class=\"edge\">\n",
       "<title>Ad&#45;&gt;Add</title>\n",
       "<path fill=\"none\" stroke=\"#000000\" d=\"M863.6134,-536.2376C900.7484,-530.5348 965.6278,-518.784 984,-504 991.4795,-497.9813 996.8858,-489.1641 1000.7141,-480.5476\"/>\n",
       "<polygon fill=\"#000000\" stroke=\"#000000\" points=\"1004.0392,-481.6533 1004.3921,-471.0643 997.5129,-479.122 1004.0392,-481.6533\"/>\n",
       "<text text-anchor=\"middle\" x=\"1063\" y=\"-492.8\" font-family=\"Times,serif\" font-size=\"14.00\" fill=\"#000000\">&gt;&#45;1.0930981321949793</text>\n",
       "</g>\n",
       "<!-- Addg -->\n",
       "<g id=\"node22\" class=\"node\">\n",
       "<title>Addg</title>\n",
       "<ellipse fill=\"none\" stroke=\"#000000\" cx=\"1009\" cy=\"-366\" rx=\"27\" ry=\"18\"/>\n",
       "<text text-anchor=\"middle\" x=\"1009\" y=\"-362.3\" font-family=\"Times,serif\" font-size=\"14.00\" fill=\"#000000\">0</text>\n",
       "</g>\n",
       "<!-- Add&#45;&gt;Addg -->\n",
       "<g id=\"edge33\" class=\"edge\">\n",
       "<title>Add&#45;&gt;Addg</title>\n",
       "<path fill=\"none\" stroke=\"#000000\" d=\"M1009,-434.9735C1009,-423.1918 1009,-407.5607 1009,-394.1581\"/>\n",
       "<polygon fill=\"#000000\" stroke=\"#000000\" points=\"1012.5001,-394.0033 1009,-384.0034 1005.5001,-394.0034 1012.5001,-394.0033\"/>\n",
       "<text text-anchor=\"middle\" x=\"1075\" y=\"-405.8\" font-family=\"Times,serif\" font-size=\"14.00\" fill=\"#000000\">&lt;=0.506634959775204</text>\n",
       "</g>\n",
       "<!-- Addd -->\n",
       "<g id=\"node35\" class=\"node\">\n",
       "<title>Addd</title>\n",
       "<ellipse fill=\"none\" stroke=\"#000000\" cx=\"1173\" cy=\"-366\" rx=\"27\" ry=\"18\"/>\n",
       "<text text-anchor=\"middle\" x=\"1173\" y=\"-362.3\" font-family=\"Times,serif\" font-size=\"14.00\" fill=\"#000000\">1</text>\n",
       "</g>\n",
       "<!-- Add&#45;&gt;Addd -->\n",
       "<g id=\"edge34\" class=\"edge\">\n",
       "<title>Add&#45;&gt;Addd</title>\n",
       "<path fill=\"none\" stroke=\"#000000\" d=\"M1035.289,-448.5827C1069.8079,-442.3599 1128.0217,-430.279 1145,-417 1152.8296,-410.8764 1158.7771,-401.9247 1163.1327,-393.224\"/>\n",
       "<polygon fill=\"#000000\" stroke=\"#000000\" points=\"1166.3583,-394.5845 1167.2477,-384.027 1159.9687,-391.7255 1166.3583,-394.5845\"/>\n",
       "<text text-anchor=\"middle\" x=\"1219\" y=\"-405.8\" font-family=\"Times,serif\" font-size=\"14.00\" fill=\"#000000\">&gt;0.506634959775204</text>\n",
       "</g>\n",
       "<!-- Addgg -->\n",
       "<g id=\"node23\" class=\"node\">\n",
       "<title>Addgg</title>\n",
       "<ellipse fill=\"none\" stroke=\"#000000\" cx=\"857\" cy=\"-279\" rx=\"27\" ry=\"18\"/>\n",
       "<text text-anchor=\"middle\" x=\"857\" y=\"-275.3\" font-family=\"Times,serif\" font-size=\"14.00\" fill=\"#000000\">0</text>\n",
       "</g>\n",
       "<!-- Addg&#45;&gt;Addgg -->\n",
       "<g id=\"edge27\" class=\"edge\">\n",
       "<title>Addg&#45;&gt;Addgg</title>\n",
       "<path fill=\"none\" stroke=\"#000000\" d=\"M982.4411,-362.2761C946.933,-356.7755 886.637,-345.4392 871,-330 864.8686,-323.9461 861.3511,-315.4774 859.3552,-307.1777\"/>\n",
       "<polygon fill=\"#000000\" stroke=\"#000000\" points=\"862.7976,-306.5447 857.6016,-297.3115 855.9056,-307.7697 862.7976,-306.5447\"/>\n",
       "<text text-anchor=\"middle\" x=\"940.5\" y=\"-318.8\" font-family=\"Times,serif\" font-size=\"14.00\" fill=\"#000000\">&lt;=0.4338186352896347</text>\n",
       "</g>\n",
       "<!-- Addgd -->\n",
       "<g id=\"node30\" class=\"node\">\n",
       "<title>Addgd</title>\n",
       "<ellipse fill=\"none\" stroke=\"#000000\" cx=\"1021\" cy=\"-279\" rx=\"27\" ry=\"18\"/>\n",
       "<text text-anchor=\"middle\" x=\"1021\" y=\"-275.3\" font-family=\"Times,serif\" font-size=\"14.00\" fill=\"#000000\">1</text>\n",
       "</g>\n",
       "<!-- Addg&#45;&gt;Addgd -->\n",
       "<g id=\"edge28\" class=\"edge\">\n",
       "<title>Addg&#45;&gt;Addgd</title>\n",
       "<path fill=\"none\" stroke=\"#000000\" d=\"M1011.4864,-347.9735C1013.1115,-336.1918 1015.2675,-320.5607 1017.1161,-307.1581\"/>\n",
       "<polygon fill=\"#000000\" stroke=\"#000000\" points=\"1020.6175,-307.3878 1018.5168,-297.0034 1013.6831,-306.4313 1020.6175,-307.3878\"/>\n",
       "<text text-anchor=\"middle\" x=\"1080.5\" y=\"-318.8\" font-family=\"Times,serif\" font-size=\"14.00\" fill=\"#000000\">&gt;0.4338186352896347</text>\n",
       "</g>\n",
       "<!-- Addggg -->\n",
       "<g id=\"node24\" class=\"node\">\n",
       "<title>Addggg</title>\n",
       "<ellipse fill=\"none\" stroke=\"#000000\" cx=\"691\" cy=\"-192\" rx=\"27\" ry=\"18\"/>\n",
       "<text text-anchor=\"middle\" x=\"691\" y=\"-188.3\" font-family=\"Times,serif\" font-size=\"14.00\" fill=\"#000000\">1</text>\n",
       "</g>\n",
       "<!-- Addgg&#45;&gt;Addggg -->\n",
       "<g id=\"edge21\" class=\"edge\">\n",
       "<title>Addgg&#45;&gt;Addggg</title>\n",
       "<path fill=\"none\" stroke=\"#000000\" d=\"M830.2808,-275.5853C792.6511,-270.2744 726.6541,-258.9605 709,-243 702.2918,-236.9354 698.0834,-228.2154 695.4433,-219.6964\"/>\n",
       "<polygon fill=\"#000000\" stroke=\"#000000\" points=\"698.8299,-218.8117 693.0087,-209.9594 692.039,-220.5098 698.8299,-218.8117\"/>\n",
       "<text text-anchor=\"middle\" x=\"782\" y=\"-231.8\" font-family=\"Times,serif\" font-size=\"14.00\" fill=\"#000000\">&lt;=0.22581675711361515</text>\n",
       "</g>\n",
       "<!-- Addggd -->\n",
       "<g id=\"node29\" class=\"node\">\n",
       "<title>Addggd</title>\n",
       "<polygon fill=\"none\" stroke=\"#000000\" points=\"887,-210 833,-210 833,-174 887,-174 887,-210\"/>\n",
       "<text text-anchor=\"middle\" x=\"860\" y=\"-188.3\" font-family=\"Times,serif\" font-size=\"14.00\" fill=\"#000000\">&#45;1</text>\n",
       "</g>\n",
       "<!-- Addgg&#45;&gt;Addggd -->\n",
       "<g id=\"edge22\" class=\"edge\">\n",
       "<title>Addgg&#45;&gt;Addggd</title>\n",
       "<path fill=\"none\" stroke=\"#000000\" d=\"M857.6216,-260.9735C858.0279,-249.1918 858.5669,-233.5607 859.029,-220.1581\"/>\n",
       "<polygon fill=\"#000000\" stroke=\"#000000\" points=\"862.5324,-220.1181 859.3792,-210.0034 855.5366,-219.8768 862.5324,-220.1181\"/>\n",
       "<text text-anchor=\"middle\" x=\"928\" y=\"-231.8\" font-family=\"Times,serif\" font-size=\"14.00\" fill=\"#000000\">&gt;0.22581675711361515</text>\n",
       "</g>\n",
       "<!-- Addgggg -->\n",
       "<g id=\"node25\" class=\"node\">\n",
       "<title>Addgggg</title>\n",
       "<polygon fill=\"none\" stroke=\"#000000\" points=\"714,-123 660,-123 660,-87 714,-87 714,-123\"/>\n",
       "<text text-anchor=\"middle\" x=\"687\" y=\"-101.3\" font-family=\"Times,serif\" font-size=\"14.00\" fill=\"#000000\">&#45;1</text>\n",
       "</g>\n",
       "<!-- Addggg&#45;&gt;Addgggg -->\n",
       "<g id=\"edge19\" class=\"edge\">\n",
       "<title>Addggg&#45;&gt;Addgggg</title>\n",
       "<path fill=\"none\" stroke=\"#000000\" d=\"M689.2487,-173.701C688.7671,-168.0324 688.2963,-161.7623 688,-156 687.6272,-148.7505 687.3907,-140.9149 687.2413,-133.6116\"/>\n",
       "<polygon fill=\"#000000\" stroke=\"#000000\" points=\"690.7379,-133.3658 687.0791,-123.4228 683.7388,-133.4773 690.7379,-133.3658\"/>\n",
       "<text text-anchor=\"middle\" x=\"761\" y=\"-144.8\" font-family=\"Times,serif\" font-size=\"14.00\" fill=\"#000000\">&lt;=0.07893986986446261</text>\n",
       "</g>\n",
       "<!-- Addgggd -->\n",
       "<g id=\"node26\" class=\"node\">\n",
       "<title>Addgggd</title>\n",
       "<ellipse fill=\"none\" stroke=\"#000000\" cx=\"856\" cy=\"-105\" rx=\"27\" ry=\"18\"/>\n",
       "<text text-anchor=\"middle\" x=\"856\" y=\"-101.3\" font-family=\"Times,serif\" font-size=\"14.00\" fill=\"#000000\">1</text>\n",
       "</g>\n",
       "<!-- Addggg&#45;&gt;Addgggd -->\n",
       "<g id=\"edge20\" class=\"edge\">\n",
       "<title>Addggg&#45;&gt;Addgggd</title>\n",
       "<path fill=\"none\" stroke=\"#000000\" d=\"M717.5977,-188.1711C753.9407,-182.4684 816.5992,-170.8083 834,-156 841.0728,-149.981 845.9376,-141.2723 849.2548,-132.7496\"/>\n",
       "<polygon fill=\"#000000\" stroke=\"#000000\" points=\"852.6613,-133.5959 852.4775,-123.0026 846.0152,-131.3984 852.6613,-133.5959\"/>\n",
       "<text text-anchor=\"middle\" x=\"915\" y=\"-144.8\" font-family=\"Times,serif\" font-size=\"14.00\" fill=\"#000000\">&gt;0.07893986986446261</text>\n",
       "</g>\n",
       "<!-- Addgggdg -->\n",
       "<g id=\"node27\" class=\"node\">\n",
       "<title>Addgggdg</title>\n",
       "<polygon fill=\"none\" stroke=\"#000000\" points=\"802,-36 748,-36 748,0 802,0 802,-36\"/>\n",
       "<text text-anchor=\"middle\" x=\"775\" y=\"-14.3\" font-family=\"Times,serif\" font-size=\"14.00\" fill=\"#000000\">1</text>\n",
       "</g>\n",
       "<!-- Addgggd&#45;&gt;Addgggdg -->\n",
       "<g id=\"edge17\" class=\"edge\">\n",
       "<title>Addgggd&#45;&gt;Addgggdg</title>\n",
       "<path fill=\"none\" stroke=\"#000000\" d=\"M829.6279,-100.6767C811.2308,-96.1481 787.9204,-87.0454 776,-69 771.6558,-62.4236 770.2113,-54.2557 770.1754,-46.3978\"/>\n",
       "<polygon fill=\"#000000\" stroke=\"#000000\" points=\"773.6689,-46.6093 770.8141,-36.4063 766.6832,-46.1626 773.6689,-46.6093\"/>\n",
       "<text text-anchor=\"middle\" x=\"845.5\" y=\"-57.8\" font-family=\"Times,serif\" font-size=\"14.00\" fill=\"#000000\">&lt;=0.4841356922670067</text>\n",
       "</g>\n",
       "<!-- Addgggdd -->\n",
       "<g id=\"node28\" class=\"node\">\n",
       "<title>Addgggdd</title>\n",
       "<polygon fill=\"none\" stroke=\"#000000\" points=\"964,-36 910,-36 910,0 964,0 964,-36\"/>\n",
       "<text text-anchor=\"middle\" x=\"937\" y=\"-14.3\" font-family=\"Times,serif\" font-size=\"14.00\" fill=\"#000000\">&#45;1</text>\n",
       "</g>\n",
       "<!-- Addgggd&#45;&gt;Addgggdd -->\n",
       "<g id=\"edge18\" class=\"edge\">\n",
       "<title>Addgggd&#45;&gt;Addgggdd</title>\n",
       "<path fill=\"none\" stroke=\"#000000\" d=\"M878.8111,-95.2637C890.8681,-89.1733 905.1653,-80.3248 915,-69 920.8436,-62.2711 925.3352,-53.7535 928.6895,-45.6159\"/>\n",
       "<polygon fill=\"#000000\" stroke=\"#000000\" points=\"932.0507,-46.6172 932.2313,-36.0239 925.484,-44.1924 932.0507,-46.6172\"/>\n",
       "<text text-anchor=\"middle\" x=\"989.5\" y=\"-57.8\" font-family=\"Times,serif\" font-size=\"14.00\" fill=\"#000000\">&gt;0.4841356922670067</text>\n",
       "</g>\n",
       "<!-- Addgdg -->\n",
       "<g id=\"node31\" class=\"node\">\n",
       "<title>Addgdg</title>\n",
       "<ellipse fill=\"none\" stroke=\"#000000\" cx=\"1021\" cy=\"-192\" rx=\"27\" ry=\"18\"/>\n",
       "<text text-anchor=\"middle\" x=\"1021\" y=\"-188.3\" font-family=\"Times,serif\" font-size=\"14.00\" fill=\"#000000\">1</text>\n",
       "</g>\n",
       "<!-- Addgd&#45;&gt;Addgdg -->\n",
       "<g id=\"edge25\" class=\"edge\">\n",
       "<title>Addgd&#45;&gt;Addgdg</title>\n",
       "<path fill=\"none\" stroke=\"#000000\" d=\"M1021,-260.9735C1021,-249.1918 1021,-233.5607 1021,-220.1581\"/>\n",
       "<polygon fill=\"#000000\" stroke=\"#000000\" points=\"1024.5001,-220.0033 1021,-210.0034 1017.5001,-220.0034 1024.5001,-220.0033\"/>\n",
       "<text text-anchor=\"middle\" x=\"1083.5\" y=\"-231.8\" font-family=\"Times,serif\" font-size=\"14.00\" fill=\"#000000\">&lt;=0.31072972998887</text>\n",
       "</g>\n",
       "<!-- Addgdd -->\n",
       "<g id=\"node34\" class=\"node\">\n",
       "<title>Addgdd</title>\n",
       "<polygon fill=\"none\" stroke=\"#000000\" points=\"1196,-210 1142,-210 1142,-174 1196,-174 1196,-210\"/>\n",
       "<text text-anchor=\"middle\" x=\"1169\" y=\"-188.3\" font-family=\"Times,serif\" font-size=\"14.00\" fill=\"#000000\">1</text>\n",
       "</g>\n",
       "<!-- Addgd&#45;&gt;Addgdd -->\n",
       "<g id=\"edge26\" class=\"edge\">\n",
       "<title>Addgd&#45;&gt;Addgdd</title>\n",
       "<path fill=\"none\" stroke=\"#000000\" d=\"M1047.2039,-274.2522C1079.5696,-267.9321 1132.1744,-256.0272 1147,-243 1153.8725,-236.9612 1158.6726,-228.3937 1161.9926,-220.0011\"/>\n",
       "<polygon fill=\"#000000\" stroke=\"#000000\" points=\"1165.3544,-220.9857 1165.2455,-210.3914 1158.7239,-218.7412 1165.3544,-220.9857\"/>\n",
       "<text text-anchor=\"middle\" x=\"1215.5\" y=\"-231.8\" font-family=\"Times,serif\" font-size=\"14.00\" fill=\"#000000\">&gt;0.31072972998887</text>\n",
       "</g>\n",
       "<!-- Addgdgg -->\n",
       "<g id=\"node32\" class=\"node\">\n",
       "<title>Addgdgg</title>\n",
       "<polygon fill=\"none\" stroke=\"#000000\" points=\"1045,-123 991,-123 991,-87 1045,-87 1045,-123\"/>\n",
       "<text text-anchor=\"middle\" x=\"1018\" y=\"-101.3\" font-family=\"Times,serif\" font-size=\"14.00\" fill=\"#000000\">1</text>\n",
       "</g>\n",
       "<!-- Addgdg&#45;&gt;Addgdgg -->\n",
       "<g id=\"edge23\" class=\"edge\">\n",
       "<title>Addgdg&#45;&gt;Addgdgg</title>\n",
       "<path fill=\"none\" stroke=\"#000000\" d=\"M1019.8554,-173.6918C1019.5353,-168.0228 1019.2162,-161.7548 1019,-156 1018.7275,-148.7461 1018.5269,-140.9088 1018.3802,-133.6054\"/>\n",
       "<polygon fill=\"#000000\" stroke=\"#000000\" points=\"1021.8765,-133.3544 1018.2017,-123.4173 1014.8776,-133.4771 1021.8765,-133.3544\"/>\n",
       "<text text-anchor=\"middle\" x=\"1088.5\" y=\"-144.8\" font-family=\"Times,serif\" font-size=\"14.00\" fill=\"#000000\">&lt;=0.2778805311311585</text>\n",
       "</g>\n",
       "<!-- Addgdgd -->\n",
       "<g id=\"node33\" class=\"node\">\n",
       "<title>Addgdgd</title>\n",
       "<polygon fill=\"none\" stroke=\"#000000\" points=\"1207,-123 1153,-123 1153,-87 1207,-87 1207,-123\"/>\n",
       "<text text-anchor=\"middle\" x=\"1180\" y=\"-101.3\" font-family=\"Times,serif\" font-size=\"14.00\" fill=\"#000000\">&#45;1</text>\n",
       "</g>\n",
       "<!-- Addgdg&#45;&gt;Addgdgd -->\n",
       "<g id=\"edge24\" class=\"edge\">\n",
       "<title>Addgdg&#45;&gt;Addgdgd</title>\n",
       "<path fill=\"none\" stroke=\"#000000\" d=\"M1047.3731,-187.8852C1082.3237,-181.9679 1141.4985,-170.1907 1158,-156 1164.9365,-150.0349 1169.7532,-141.4864 1173.0687,-133.0886\"/>\n",
       "<polygon fill=\"#000000\" stroke=\"#000000\" points=\"1176.4354,-134.0576 1176.3082,-123.4635 1169.8011,-131.8247 1176.4354,-134.0576\"/>\n",
       "<text text-anchor=\"middle\" x=\"1233.5\" y=\"-144.8\" font-family=\"Times,serif\" font-size=\"14.00\" fill=\"#000000\">&gt;0.2778805311311585</text>\n",
       "</g>\n",
       "<!-- Adddg -->\n",
       "<g id=\"node36\" class=\"node\">\n",
       "<title>Adddg</title>\n",
       "<polygon fill=\"none\" stroke=\"#000000\" points=\"1200,-297 1146,-297 1146,-261 1200,-261 1200,-297\"/>\n",
       "<text text-anchor=\"middle\" x=\"1173\" y=\"-275.3\" font-family=\"Times,serif\" font-size=\"14.00\" fill=\"#000000\">1</text>\n",
       "</g>\n",
       "<!-- Addd&#45;&gt;Adddg -->\n",
       "<g id=\"edge31\" class=\"edge\">\n",
       "<title>Addd&#45;&gt;Adddg</title>\n",
       "<path fill=\"none\" stroke=\"#000000\" d=\"M1173,-347.9735C1173,-336.1918 1173,-320.5607 1173,-307.1581\"/>\n",
       "<polygon fill=\"#000000\" stroke=\"#000000\" points=\"1176.5001,-307.0033 1173,-297.0034 1169.5001,-307.0034 1176.5001,-307.0033\"/>\n",
       "<text text-anchor=\"middle\" x=\"1239\" y=\"-318.8\" font-family=\"Times,serif\" font-size=\"14.00\" fill=\"#000000\">&lt;=1.660625681369186</text>\n",
       "</g>\n",
       "<!-- Adddd -->\n",
       "<g id=\"node37\" class=\"node\">\n",
       "<title>Adddd</title>\n",
       "<ellipse fill=\"none\" stroke=\"#000000\" cx=\"1328\" cy=\"-279\" rx=\"27\" ry=\"18\"/>\n",
       "<text text-anchor=\"middle\" x=\"1328\" y=\"-275.3\" font-family=\"Times,serif\" font-size=\"14.00\" fill=\"#000000\">1</text>\n",
       "</g>\n",
       "<!-- Addd&#45;&gt;Adddd -->\n",
       "<g id=\"edge32\" class=\"edge\">\n",
       "<title>Addd&#45;&gt;Adddd</title>\n",
       "<path fill=\"none\" stroke=\"#000000\" d=\"M1199.4765,-361.637C1233.516,-355.5635 1290.1354,-343.7452 1306,-330 1313.0192,-323.9185 1317.8708,-315.1944 1321.1922,-306.6768\"/>\n",
       "<polygon fill=\"#000000\" stroke=\"#000000\" points=\"1324.5945,-307.537 1324.4267,-296.9435 1317.9517,-305.3295 1324.5945,-307.537\"/>\n",
       "<text text-anchor=\"middle\" x=\"1378\" y=\"-318.8\" font-family=\"Times,serif\" font-size=\"14.00\" fill=\"#000000\">&gt;1.660625681369186</text>\n",
       "</g>\n",
       "<!-- Addddg -->\n",
       "<g id=\"node38\" class=\"node\">\n",
       "<title>Addddg</title>\n",
       "<polygon fill=\"none\" stroke=\"#000000\" points=\"1345,-210 1291,-210 1291,-174 1345,-174 1345,-210\"/>\n",
       "<text text-anchor=\"middle\" x=\"1318\" y=\"-188.3\" font-family=\"Times,serif\" font-size=\"14.00\" fill=\"#000000\">&#45;1</text>\n",
       "</g>\n",
       "<!-- Adddd&#45;&gt;Addddg -->\n",
       "<g id=\"edge29\" class=\"edge\">\n",
       "<title>Adddd&#45;&gt;Addddg</title>\n",
       "<path fill=\"none\" stroke=\"#000000\" d=\"M1322.7088,-261.2084C1321.2244,-255.4512 1319.7988,-249.0029 1319,-243 1318.0155,-235.6014 1317.5708,-227.5466 1317.4173,-220.0695\"/>\n",
       "<polygon fill=\"#000000\" stroke=\"#000000\" points=\"1320.917,-219.9954 1317.3681,-210.0127 1313.9171,-220.0297 1320.917,-219.9954\"/>\n",
       "<text text-anchor=\"middle\" x=\"1385\" y=\"-231.8\" font-family=\"Times,serif\" font-size=\"14.00\" fill=\"#000000\">&lt;=1.693876380237381</text>\n",
       "</g>\n",
       "<!-- Addddd -->\n",
       "<g id=\"node39\" class=\"node\">\n",
       "<title>Addddd</title>\n",
       "<polygon fill=\"none\" stroke=\"#000000\" points=\"1500,-210 1446,-210 1446,-174 1500,-174 1500,-210\"/>\n",
       "<text text-anchor=\"middle\" x=\"1473\" y=\"-188.3\" font-family=\"Times,serif\" font-size=\"14.00\" fill=\"#000000\">1</text>\n",
       "</g>\n",
       "<!-- Adddd&#45;&gt;Addddd -->\n",
       "<g id=\"edge30\" class=\"edge\">\n",
       "<title>Adddd&#45;&gt;Addddd</title>\n",
       "<path fill=\"none\" stroke=\"#000000\" d=\"M1354.1328,-274.0663C1385.775,-267.6392 1436.6248,-255.7136 1451,-243 1457.853,-236.9391 1462.6481,-228.3659 1465.9695,-219.9749\"/>\n",
       "<polygon fill=\"#000000\" stroke=\"#000000\" points=\"1469.3297,-220.9641 1469.2265,-210.3698 1462.7005,-218.7162 1469.3297,-220.9641\"/>\n",
       "<text text-anchor=\"middle\" x=\"1523\" y=\"-231.8\" font-family=\"Times,serif\" font-size=\"14.00\" fill=\"#000000\">&gt;1.693876380237381</text>\n",
       "</g>\n",
       "</g>\n",
       "</svg>\n"
      ],
      "text/plain": [
       "<graphviz.dot.Digraph at 0x11fe6c240>"
      ]
     },
     "execution_count": 32,
     "metadata": {},
     "output_type": "execute_result"
    }
   ],
   "source": [
    "adautre.plot()"
   ]
  },
  {
   "cell_type": "markdown",
   "metadata": {},
   "source": [
    "### Améliorations (facultatif)"
   ]
  },
  {
   "cell_type": "markdown",
   "metadata": {},
   "source": [
    "Adapter votre algorithme afin de pouvoir construire des arbres de décision avec des attributs catégoriels. Dans un premier temps, vous considèrerez des attributs catégoriels à 2 valeurs. Ensuite, pour considérer des attributs à plus de 2 valeurs, vous devrez écrire une classe <code>ArbreGeneral</code> pour remplacer la classe <code>ArbreBinaire</code>."
   ]
  },
  {
   "cell_type": "markdown",
   "metadata": {},
   "source": [
    "## Etape 3: Expérimentation"
   ]
  },
  {
   "cell_type": "markdown",
   "metadata": {
    "collapsed": true
   },
   "source": [
    "Comparez le résultat obtenu avec ceux obtenus avec les 2 classifiers implémentés lors des TD-TME précédents. Ensuite, utilisez votre implémentation sur d'autres bases de données que vous avez déjà trouvées ou que vous pourrez trouver sur le web."
   ]
  },
  {
   "cell_type": "code",
   "execution_count": null,
   "metadata": {},
   "outputs": [],
   "source": []
  }
 ],
 "metadata": {
  "kernelspec": {
   "display_name": "Python 3",
   "language": "python",
   "name": "python3"
  },
  "language_info": {
   "codemirror_mode": {
    "name": "ipython",
    "version": 3
   },
   "file_extension": ".py",
   "mimetype": "text/x-python",
   "name": "python",
   "nbconvert_exporter": "python",
   "pygments_lexer": "ipython3",
   "version": "3.7.1"
  }
 },
 "nbformat": 4,
 "nbformat_minor": 1
}
