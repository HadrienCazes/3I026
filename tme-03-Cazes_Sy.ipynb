{
 "cells": [
  {
   "cell_type": "markdown",
   "metadata": {},
   "source": [
    "IA & Data science (3i026) -- 2018-2019\n",
    "--------\n",
    "*&copy; Equipe pédagogique: Manon Ansart, Vincent Guigue, Marie-Jeanne Lesot, Christophe Marsala, Olivier Schwander.*\n"
   ]
  },
  {
   "cell_type": "markdown",
   "metadata": {},
   "source": [
    "# TD-TME03: programmation du perceptron\n",
    "\n",
    "Dans ce TP, nous allons principalement programmer un perceptron, en nous restreignant au cas binaire où les données sont étiquetées $+1$ ou $-1$ (comme les TP précédents)."
   ]
  },
  {
   "cell_type": "markdown",
   "metadata": {},
   "source": [
    "<font size=\"+1\" color=\"RED\">**[Q]**</font> **Indiquer dans la boîte ci-dessous vos noms et prénoms :**"
   ]
  },
  {
   "cell_type": "markdown",
   "metadata": {},
   "source": [
    "Cazes Hadrien,Sy Virak Bot Baramy"
   ]
  },
  {
   "cell_type": "markdown",
   "metadata": {},
   "source": [
    "<font color=\"RED\" size=\"+1\">**[Q]**</font> **Renommer ce fichier ipython**\n",
    "\n",
    "Tout en haut de cette page, cliquer sur <tt>tme-03</tt> et rajouter à la suite de <tt>tme-03</tt> les noms des membres du binômes séparés par un tiret."
   ]
  },
  {
   "cell_type": "markdown",
   "metadata": {},
   "source": [
    "<font color=\"RED\" size=\"+1\">IMPORTANT: soumission de votre fichier final</font>\n",
    "\n",
    "**Nom à donner au fichier à poster** : *tme-03-Nom1_Nom2.ipynb* \n",
    "- *Nom1* et *Nom2* : noms des membres du binôme\n",
    "- ne pas compresser ou faire une archive: il faut rendre le fichier ipython tel quel, éventuellement, si vous avez d'autres fichiers vous les rendez séparément.\n",
    "\n",
    "**Echancier pour la soumission de votre compte-rendu:**\n",
    "- le compte-rendu d'une séance doit être remis obligatoirement <font color=\"RED\">** à la fin de la séance**</font>. C'est ce compte-rendu qui donne la note de base de la séance.\n",
    "- vous pouvez éventuellement compléter votre compte-rendu  pour obtenir des points bonus, dans ce cas, vous devez soumettre votre complément avant le début de la semaine suivante.\n",
    "\n",
    "** Sur la page Moodle de remise du travail <font color=\"RED\">ne pas oublier d'envoyer le compte rendu</font>** à la fin de la séance, la soumission de la version complémentaire post-séance se fera sur une page différente."
   ]
  },
  {
   "cell_type": "markdown",
   "metadata": {},
   "source": [
    "## Création d'une librairie\n",
    "\n",
    "Afin de pouvoir réutiliser les classes et fonctions écrites dans les séances de TDTME précédentes, on va construire une librairie qu'il suffira d'importer.\n",
    "\n",
    "Récupérer l'archive iads.tgz et la désarchiver de telle sorte que le répertoire iads soit un répertoire frère du répertoire tme03.\n",
    "\n",
    "Ainsi, vous devrez avoir l'arborescence suivante dans votre répertoire $HOME:\n",
    "\n",
    "    - 3i026/\n",
    "        - tme01/\n",
    "            - tme01.ipynb\n",
    "        - tme02/\n",
    "            - tme02.ipynb\n",
    "        - tme03/\n",
    "            - tme03.ipynb\n",
    "        - iads/\n",
    "            - Classifiers.py\n",
    "            - LabeledSet.py\n",
    "            - utils.py\n",
    "          \n",
    "\n",
    "**Important** :\n",
    "- ce fichier tme03.ipynb doit toujours rester dans le répertorie tme03/\n",
    "- pour ouvrir les fichiers py qui se trouvent dans le répertoire iads/ il est nécessaire d'utiliser un éditeur de texte comme emacs, gedit, idle,...\n",
    "\n",
    "\n",
    "<font color=\"RED\" size=\"+1\">**[Q]**</font> **Ouvrir et compléter les fichiers Classifiers.py et utils.py**\n",
    "\n",
    "Pour compléter ces fichiers, reprendre le code écrit dans le TDTME précédent pour compléter toute les parties indiquées <tt>#TODO</tt>.\n",
    "- dans utils.py, il faut compléter la fonction createGaussianDataset\n",
    "- dans Classifiers.py, il faut compléter le code des classifiers"
   ]
  },
  {
   "cell_type": "markdown",
   "metadata": {},
   "source": [
    "Une fois ces fichiers complétés, la librairie <tt>iads</tt> peut être importée dans ce notebook."
   ]
  },
  {
   "cell_type": "code",
   "execution_count": 1,
   "metadata": {},
   "outputs": [],
   "source": [
    "import numpy as np\n",
    "import pandas as pd\n",
    "import matplotlib.pyplot as plt\n",
    "%matplotlib inline  \n",
    "\n",
    "# La ligne suivante permet de préciser le chemin d'accès à la librairie iads\n",
    "import sys\n",
    "sys.path.append('../')\n",
    "\n",
    "# Importation de la librairie iads\n",
    "import iads as iads\n",
    "\n",
    "# importation de LabeledSet\n",
    "from iads import LabeledSet as ls\n",
    "\n",
    "# importation de Classifiers\n",
    "from iads import Classifiers as cl\n",
    "\n",
    "# importation de utils\n",
    "from iads import utils as ut"
   ]
  },
  {
   "cell_type": "markdown",
   "metadata": {},
   "source": [
    "La commande <tt>help</tt> permet d'avoir des informations sur le contenu d'une librairie importée:"
   ]
  },
  {
   "cell_type": "code",
   "execution_count": 2,
   "metadata": {},
   "outputs": [
    {
     "name": "stdout",
     "output_type": "stream",
     "text": [
      "Help on package iads:\n",
      "\n",
      "NAME\n",
      "    iads\n",
      "\n",
      "DESCRIPTION\n",
      "    Package: iads\n",
      "    File: __init__.py\n",
      "    Année: semestre 2 - 2018-2019, Sorbonne Université\n",
      "\n",
      "PACKAGE CONTENTS\n",
      "    Classifiers\n",
      "    LabeledSet\n",
      "    utils\n",
      "\n",
      "FILE\n",
      "    /users/nfs/Etu4/3407294/workspace/L3/3I026/iads/__init__.py\n",
      "\n",
      "\n"
     ]
    }
   ],
   "source": [
    "help(iads)"
   ]
  },
  {
   "cell_type": "code",
   "execution_count": 3,
   "metadata": {
    "scrolled": true
   },
   "outputs": [
    {
     "name": "stdout",
     "output_type": "stream",
     "text": [
      "Help on module iads.LabeledSet in iads:\n",
      "\n",
      "NAME\n",
      "    iads.LabeledSet\n",
      "\n",
      "DESCRIPTION\n",
      "    Package: iads\n",
      "    Fichier: LabeledSet.py\n",
      "    Année: semestre 2 - 2018-2019, Sorbonne Université\n",
      "\n",
      "CLASSES\n",
      "    builtins.object\n",
      "        LabeledSet\n",
      "    \n",
      "    class LabeledSet(builtins.object)\n",
      "     |  Classe pour représenter un ensemble d'exemples (base d'apprentissage)\n",
      "     |  Variables d'instance :\n",
      "     |      - input_dimension (int) : dimension de la description d'un exemple (x)\n",
      "     |      - nb_examples (int) : nombre d'exemples dans l'ensemble\n",
      "     |  \n",
      "     |  Methods defined here:\n",
      "     |  \n",
      "     |  __init__(self, input_dimension)\n",
      "     |      Constructeur de LabeledSet\n",
      "     |      Argument: \n",
      "     |          - intput_dimension (int) : dimension de x\n",
      "     |      Hypothèse : input_dimension > 0\n",
      "     |  \n",
      "     |  addExample(self, vector, label)\n",
      "     |      Ajout d'un exemple dans l'ensemble\n",
      "     |      Argument: \n",
      "     |          - vector ()\n",
      "     |          - label (int) : classe de l'exemple (+1 ou -1)\n",
      "     |  \n",
      "     |  getInputDimension(self)\n",
      "     |      Renvoie la dimension de l'espace d'entrée\n",
      "     |  \n",
      "     |  getX(self, i)\n",
      "     |      Renvoie la description du i-eme exemple (x_i)\n",
      "     |  \n",
      "     |  getY(self, i)\n",
      "     |      Renvoie la classe de du i-eme exemple (y_i)\n",
      "     |  \n",
      "     |  size(self)\n",
      "     |      Renvoie le nombre d'exemples dans l'ensemble\n",
      "     |  \n",
      "     |  ----------------------------------------------------------------------\n",
      "     |  Data descriptors defined here:\n",
      "     |  \n",
      "     |  __dict__\n",
      "     |      dictionary for instance variables (if defined)\n",
      "     |  \n",
      "     |  __weakref__\n",
      "     |      list of weak references to the object (if defined)\n",
      "\n",
      "FILE\n",
      "    /users/nfs/Etu4/3407294/workspace/L3/3I026/iads/LabeledSet.py\n",
      "\n",
      "\n"
     ]
    }
   ],
   "source": [
    "help(ls)"
   ]
  },
  {
   "cell_type": "code",
   "execution_count": 5,
   "metadata": {},
   "outputs": [
    {
     "name": "stdout",
     "output_type": "stream",
     "text": [
      "Help on module iads.Classifiers in iads:\n",
      "\n",
      "NAME\n",
      "    iads.Classifiers\n",
      "\n",
      "DESCRIPTION\n",
      "    Package: iads\n",
      "    Fichier: Classifiers.py\n",
      "    Année: semestre 2 - 2018-2019, Sorbonne Université\n",
      "\n",
      "CLASSES\n",
      "    builtins.object\n",
      "        Classifier\n",
      "            ClassifierKNN\n",
      "            ClassifierLineaireRandom\n",
      "    \n",
      "    class Classifier(builtins.object)\n",
      "     |  Classe pour représenter un classifieur\n",
      "     |  Attention: cette classe est une classe abstraite, elle ne peut pas être\n",
      "     |  instanciée.\n",
      "     |  \n",
      "     |  Methods defined here:\n",
      "     |  \n",
      "     |  __init__(self, input_dimension)\n",
      "     |      Constructeur de Classifier\n",
      "     |      Argument:\n",
      "     |          - intput_dimension (int) : dimension d'entrée des exemples\n",
      "     |      Hypothèse : input_dimension > 0\n",
      "     |  \n",
      "     |  accuracy(self, dataset)\n",
      "     |      Permet de calculer la qualité du système\n",
      "     |  \n",
      "     |  predict(self, x)\n",
      "     |      rend la prediction sur x (-1 ou +1)\n",
      "     |  \n",
      "     |  train(self, labeledSet)\n",
      "     |      Permet d'entrainer le modele sur l'ensemble donné\n",
      "     |  \n",
      "     |  ----------------------------------------------------------------------\n",
      "     |  Data descriptors defined here:\n",
      "     |  \n",
      "     |  __dict__\n",
      "     |      dictionary for instance variables (if defined)\n",
      "     |  \n",
      "     |  __weakref__\n",
      "     |      list of weak references to the object (if defined)\n",
      "    \n",
      "    class ClassifierKNN(Classifier)\n",
      "     |  Classe pour représenter un classifieur par K plus proches voisins.\n",
      "     |  Cette classe hérite de la classe Classifier\n",
      "     |  \n",
      "     |  Method resolution order:\n",
      "     |      ClassifierKNN\n",
      "     |      Classifier\n",
      "     |      builtins.object\n",
      "     |  \n",
      "     |  Methods defined here:\n",
      "     |  \n",
      "     |  __init__(self, input_dimension, k)\n",
      "     |      Constructeur de Classifier\n",
      "     |      Argument:\n",
      "     |          - intput_dimension (int) : dimension d'entrée des exemples\n",
      "     |          - k (int) : nombre de voisins à considérer\n",
      "     |      Hypothèse : input_dimension > 0\n",
      "     |  \n",
      "     |  predict(self, x)\n",
      "     |      rend la prediction sur x (-1 ou +1)\n",
      "     |  \n",
      "     |  train(self, labeledSet)\n",
      "     |      Permet d'entrainer le modele sur l'ensemble donné\n",
      "     |  \n",
      "     |  ----------------------------------------------------------------------\n",
      "     |  Methods inherited from Classifier:\n",
      "     |  \n",
      "     |  accuracy(self, dataset)\n",
      "     |      Permet de calculer la qualité du système\n",
      "     |  \n",
      "     |  ----------------------------------------------------------------------\n",
      "     |  Data descriptors inherited from Classifier:\n",
      "     |  \n",
      "     |  __dict__\n",
      "     |      dictionary for instance variables (if defined)\n",
      "     |  \n",
      "     |  __weakref__\n",
      "     |      list of weak references to the object (if defined)\n",
      "    \n",
      "    class ClassifierLineaireRandom(Classifier)\n",
      "     |  Classe pour représenter un classifieur linéaire aléatoire\n",
      "     |  Cette classe hérite de la classe Classifier\n",
      "     |  \n",
      "     |  Method resolution order:\n",
      "     |      ClassifierLineaireRandom\n",
      "     |      Classifier\n",
      "     |      builtins.object\n",
      "     |  \n",
      "     |  Methods defined here:\n",
      "     |  \n",
      "     |  __init__(self, input_dimension)\n",
      "     |      Constructeur de Classifier\n",
      "     |      Argument:\n",
      "     |          - intput_dimension (int) : dimension d'entrée des exemples\n",
      "     |      Hypothèse : input_dimension > 0\n",
      "     |  \n",
      "     |  predict(self, x)\n",
      "     |      rend la prediction sur x (-1 ou +1)\n",
      "     |  \n",
      "     |  train(self, labeledSet)\n",
      "     |      Permet d'entrainer le modele sur l'ensemble donné\n",
      "     |  \n",
      "     |  ----------------------------------------------------------------------\n",
      "     |  Methods inherited from Classifier:\n",
      "     |  \n",
      "     |  accuracy(self, dataset)\n",
      "     |      Permet de calculer la qualité du système\n",
      "     |  \n",
      "     |  ----------------------------------------------------------------------\n",
      "     |  Data descriptors inherited from Classifier:\n",
      "     |  \n",
      "     |  __dict__\n",
      "     |      dictionary for instance variables (if defined)\n",
      "     |  \n",
      "     |  __weakref__\n",
      "     |      list of weak references to the object (if defined)\n",
      "\n",
      "FILE\n",
      "    /users/nfs/Etu4/3407294/workspace/L3/3I026/iads/Classifiers.py\n",
      "\n",
      "\n"
     ]
    }
   ],
   "source": [
    "help(cl)"
   ]
  },
  {
   "cell_type": "markdown",
   "metadata": {},
   "source": [
    "Dans les boîtes suivantes, on utilise ces librairies avec les exemples vus en TDTME-02."
   ]
  },
  {
   "cell_type": "code",
   "execution_count": 6,
   "metadata": {},
   "outputs": [
    {
     "name": "stdout",
     "output_type": "stream",
     "text": [
      "Exemple 0\n",
      "\tdescription :  [0 1]\n",
      "\tlabel :  [1]\n",
      "Exemple 1\n",
      "\tdescription :  [2 3]\n",
      "\tlabel :  [1]\n",
      "Exemple 2\n",
      "\tdescription :  [1 2]\n",
      "\tlabel :  [-1]\n",
      "Exemple 3\n",
      "\tdescription :  [2 2]\n",
      "\tlabel :  [-1]\n"
     ]
    }
   ],
   "source": [
    "# Exemple d'utilisation de LabeledSet\n",
    "\n",
    "une_base = ls.LabeledSet(2)        # définition d'une base pour contenir des exemples en 2D\n",
    "\n",
    "une_base.addExample([0, 1],1)   # ajout de l'exemple (0, 1) de classe +1\n",
    "une_base.addExample([2, 3],1)   # ajout de l'exemple (2, 3) de classe +1\n",
    "une_base.addExample([1, 2],-1)  # ajout de l'exemple (1, 2) de classe -1\n",
    "une_base.addExample([2, 2],-1)  # ajout de l'exemple (2, 2) de classe -1\n",
    "\n",
    "# Fonction pour afficher le LabeledSet\n",
    "def affiche_base(LS):\n",
    "    \"\"\" LabeledSet\n",
    "        affiche le contenu de LS\n",
    "    \"\"\"\n",
    "    for i in range(0,LS.size()):\n",
    "        print(\"Exemple \"+str(i))\n",
    "        print(\"\\tdescription : \",LS.getX(i))\n",
    "        print(\"\\tlabel : \",LS.getY(i))\n",
    "    return\n",
    "\n",
    "# Affichage de la base\n",
    "affiche_base(une_base)"
   ]
  },
  {
   "cell_type": "code",
   "execution_count": 7,
   "metadata": {},
   "outputs": [
    {
     "name": "stdout",
     "output_type": "stream",
     "text": [
      "Taille de la base jouet générée : 20 exemples\n"
     ]
    },
    {
     "data": {
      "image/png": "[encoded data removed]",
      "text/plain": [
       "<Figure size 432x288 with 1 Axes>"
      ]
     },
     "metadata": {},
     "output_type": "display_data"
    }
   ],
   "source": [
    "# Exemple d'utilisation de utils\n",
    "\n",
    "the_set = ut.createGaussianDataset(np.array([1,1]),np.array([[1,0],[0,1]]),np.array([-1,-1]),np.array([[1,0],[0,1]]),10)\n",
    "\n",
    "print(\"Taille de la base jouet générée :\", the_set.size(), \"exemples\")\n",
    "\n",
    "# Affichage :\n",
    "ut.plot2DSet(the_set)\n"
   ]
  },
  {
   "cell_type": "code",
   "execution_count": 8,
   "metadata": {},
   "outputs": [
    {
     "data": {
      "image/png": "[encoded data removed]",
      "text/plain": [
       "<Figure size 432x288 with 1 Axes>"
      ]
     },
     "metadata": {},
     "output_type": "display_data"
    }
   ],
   "source": [
    "# Exemple d'utilisation de Classifiers pour créer un knn:\n",
    "\n",
    "knn = cl.ClassifierKNN(2,3)\n",
    "\n",
    "knn.train(the_set)\n",
    "\n",
    "ut.plot_frontiere(the_set,knn)\n",
    "ut.plot2DSet(the_set)"
   ]
  },
  {
   "cell_type": "markdown",
   "metadata": {},
   "source": [
    "<font color=\"RED\" size=\"+2\">**Très important**</font>: tout le reste du travail à faire dans ce TDTME ne doit être fait que dans le notebook. Il ne faut plus modifier les fichiers de la librairie.\n",
    "\n",
    "Le compte-rendu de cette séance ne comportera que le fichier notebook.\n"
   ]
  },
  {
   "cell_type": "markdown",
   "metadata": {},
   "source": [
    "Perceptron aléatoire\n",
    "====\n",
    "\n",
    "La classe <tt>ClassifierPerceptronRandom</tt> suivante hérite de la classe `Classifier`. Elle implémente un modèle de perceptron aléatoire qui modélise un hyperplan $f_\\theta(x)=\\langle \\theta ; x \\rangle$ tel que $\\theta$ est tiré aléatoirement lors de la création.\n",
    "\n",
    "\n",
    "\n"
   ]
  },
  {
   "cell_type": "code",
   "execution_count": 10,
   "metadata": {},
   "outputs": [],
   "source": [
    "class ClassifierPerceptronRandom(cl.Classifier):\n",
    "    def __init__(self, input_dimension):\n",
    "        \"\"\" Argument:\n",
    "                - input_dimension (int) : dimension d'entrée des exemples\n",
    "            Hypothèse : input_dimension > 0\n",
    "        \"\"\"\n",
    "        self.w = np.random.rand(input_dimension)\n",
    "\n",
    "    def predict(self, x):\n",
    "        \"\"\" rend la prediction sur x (-1 ou +1)\n",
    "        \"\"\"\n",
    "        z = np.dot(x, self.w)\n",
    "        if z > 0:\n",
    "            return +1\n",
    "        else:\n",
    "            return -1\n",
    "        \n",
    "    def train(self,labeledSet):\n",
    "        \"\"\" Permet d'entrainer le modele sur l'ensemble donné\n",
    "        \"\"\"        \n",
    "        print(\"No training needed\")"
   ]
  },
  {
   "cell_type": "markdown",
   "metadata": {},
   "source": [
    "<font color=\"RED\" size=\"+1\">**[Q]**</font> Tester ce modèle de perceptron sur un jeu de données aléatoire.\n"
   ]
  },
  {
   "cell_type": "code",
   "execution_count": 11,
   "metadata": {},
   "outputs": [
    {
     "data": {
      "image/png": "[encoded data removed]",
      "text/plain": [
       "<Figure size 432x288 with 1 Axes>"
      ]
     },
     "metadata": {},
     "output_type": "display_data"
    }
   ],
   "source": [
    "# Exemple de création et d'utilisation d'un Perceptron aléatoire:\n",
    "\n",
    "perceptron_random = ClassifierPerceptronRandom(2)\n",
    "\n",
    "ut.plot_frontiere(the_set,perceptron_random)\n",
    "ut.plot2DSet(the_set)"
   ]
  },
  {
   "cell_type": "markdown",
   "metadata": {},
   "source": [
    "Perceptron de Rosenblatt\n",
    "==="
   ]
  },
  {
   "cell_type": "markdown",
   "metadata": {},
   "source": [
    "<font color=\"RED\" size=\"+1\">**[Q]**</font> En héritant de la classe `Classifier`, écrire la classe <tt>ClassifierPerceptron</tt> qui implémente l'algorithme du Perceptron de Rosenblatt vu en cours.\n",
    "\n",
    "La fonction `train` fera une itération sur l'ensemble des données de l'apprentissage. Les points d'apprentissage seront tirés dans un ordre aléatoire.\n",
    "\n"
   ]
  },
  {
   "cell_type": "code",
   "execution_count": 301,
   "metadata": {},
   "outputs": [],
   "source": [
    "class ClassfierPerceptron(cl.Classifier):\n",
    "    \"\"\" Perceptron de Rosenblatt\n",
    "    \"\"\"\n",
    "    def __init__(self,input_dimension,learning_rate):\n",
    "        \"\"\" Argument:\n",
    "                - intput_dimension (int) : dimension d'entrée des exemples\n",
    "                - learning_rate :\n",
    "            Hypothèse : input_dimension > 0\n",
    "        \"\"\"\n",
    "        self.input_dimension = input_dimension\n",
    "        self.learning_rate = learning_rate\n",
    "        self.w = np.random.rand(input_dimension) \n",
    "\n",
    "    def predict(self,x):\n",
    "        \"\"\" rend la prediction sur x (-1 ou +1)\n",
    "        \"\"\"\n",
    "        z = np.dot(x, self.w)\n",
    "        if z > 0:\n",
    "            return +1\n",
    "        else:\n",
    "            return -1\n",
    "\n",
    "    \n",
    "    def train(self,labeledSet):\n",
    "        \"\"\" Permet d'entrainer le modele sur l'ensemble donné\n",
    "        \"\"\"\n",
    "        for i in range(labeledSet.size()):\n",
    "            if (self.predict(labeledSet.getX(i)) * labeledSet.getY(i) < 0):\n",
    "                self.w = self.w + self.learning_rate * labeledSet.getY(i) * labeledSet.getX(i)\n",
    "\n",
    "\n"
   ]
  },
  {
   "cell_type": "markdown",
   "metadata": {},
   "source": [
    "<font color=\"RED\" size=\"+1\">**[Q]**</font> Tester le perceptron de la manière suivante:\n",
    "- Apprendre pendant N itérations\n",
    "- Afficher l'accuracy du modèle à chaque itération\n",
    "- Vérifier que l'accuracy baisse\n",
    "- Dessiner la frontière obtenue"
   ]
  },
  {
   "cell_type": "code",
   "execution_count": 302,
   "metadata": {
    "scrolled": true
   },
   "outputs": [
    {
     "data": {
      "text/plain": [
       "0.85"
      ]
     },
     "execution_count": 302,
     "metadata": {},
     "output_type": "execute_result"
    },
    {
     "data": {
      "image/png": "[encoded data removed]",
      "text/plain": [
       "<Figure size 432x288 with 1 Axes>"
      ]
     },
     "metadata": {},
     "output_type": "display_data"
    }
   ],
   "source": [
    "\n",
    "learn_set = ut.createGaussianDataset(np.array([1,1]),np.array([[1,0],[0,1]]),np.array([-1,-1]),np.array([[1,0],[0,1]]),100)\n",
    "test_set = ut.createGaussianDataset(np.array([1,1]),np.array([[1,0],[0,1]]),np.array([-1,-1]),np.array([[1,0],[0,1]]), 10)\n",
    "\n",
    "\n",
    "p = ClassfierPerceptron(2, .1)\n",
    "p.train(learn_set)\n",
    "ut.plot_frontiere(test_set,p)\n",
    "ut.plot2DSet(test_set)\n",
    "p.accuracy(test_set)"
   ]
  },
  {
   "cell_type": "code",
   "execution_count": 287,
   "metadata": {},
   "outputs": [],
   "source": [
    "def affiche(n_iter, epsilon):\n",
    "    learn_set = ut.createGaussianDataset(np.array([1,1]),np.array([[1,0],[0,1]]),np.array([-1,-1]),np.array([[1,0],[0,1]]),500)\n",
    "    test_set = ut.createGaussianDataset(np.array([1,1]),np.array([[1,0],[0,1]]),np.array([-1,-1]),np.array([[1,0],[0,1]]),100)\n",
    "\n",
    "    p =  ClassfierPerceptron(2, epsilon)\n",
    "    y_values = []\n",
    "    x_values = []\n",
    "    for i in range(1, n_iter+1):\n",
    "        p.train(learn_set)\n",
    "        y_values.append(p.accuracy(test_set))\n",
    "        x_values.append(i)\n",
    "    \n",
    "    plt.plot(x_values, y_values)\n",
    "    plt.show()"
   ]
  },
  {
   "cell_type": "code",
   "execution_count": 288,
   "metadata": {},
   "outputs": [
    {
     "data": {
      "image/png": "[encoded data removed]",
      "text/plain": [
       "<Figure size 432x288 with 1 Axes>"
      ]
     },
     "metadata": {},
     "output_type": "display_data"
    }
   ],
   "source": [
    "affiche(50, 0.001)"
   ]
  },
  {
   "cell_type": "markdown",
   "metadata": {},
   "source": [
    "<font color=\"RED\" size=\"+1\">**[Q]**</font> Expérimentations\n",
    "\n",
    "- Générer deux ensembles de train et de test\n",
    "- Dessiner la courbe de performance en fonction de l'itération sur les ensembles de train et de test\n",
    "    * Que se passe-t-il en fonction du pas (epsilon) d'apprentissage ? \n",
    "    * Que se passe-t-il quand le nombre d'exemples en apprentissage est faible ? \n"
   ]
  },
  {
   "cell_type": "code",
   "execution_count": 293,
   "metadata": {},
   "outputs": [
    {
     "data": {
      "image/png": "[encoded data removed]",
      "text/plain": [
       "<Figure size 432x288 with 1 Axes>"
      ]
     },
     "metadata": {},
     "output_type": "display_data"
    }
   ],
   "source": [
    "affiche(50, 0.01)"
   ]
  },
  {
   "cell_type": "code",
   "execution_count": 294,
   "metadata": {},
   "outputs": [
    {
     "data": {
      "image/png": "[encoded data removed]",
      "text/plain": [
       "<Figure size 432x288 with 1 Axes>"
      ]
     },
     "metadata": {},
     "output_type": "display_data"
    }
   ],
   "source": [
    "affiche(50, 0.0001)"
   ]
  },
  {
   "cell_type": "markdown",
   "metadata": {},
   "source": [
    "**Réponses**\n",
    "\n",
    "- epsilon permet de stabiliser w plus ou moins vite\n",
    "- Lorsque le nombre d'exemples en apprentissage est faible, w se stabilise rapidement"
   ]
  },
  {
   "cell_type": "markdown",
   "metadata": {},
   "source": [
    "<font color=\"RED\" size=\"+1\">**[Q]**</font> **Données XOR**\n",
    "\n",
    "Ecrire la fpnction `createXOR`qui, étant donné un nombre de points $n$ et une variance $var$, permet de générer une base de données contenant:\n",
    "- deux gaussiennes centrées en (0,0) et (1,1) correspondant à $n$ exemples positifs\n",
    "- deux gaussiennes centrées en (1,0) et (0,1) correspondant à $n$ exemples négatifs\n",
    "\n",
    "Dans la suite, on appelle XOR une base de données créée par cette fonction.\n",
    "\n",
    "\n",
    "Que se passe-t-il quand on apprend un perceptron  ? Quel est le problème ? "
   ]
  },
  {
   "cell_type": "code",
   "execution_count": 297,
   "metadata": {},
   "outputs": [],
   "source": [
    "def createXOR(nb_points,var):\n",
    "    positive_center = [0, 0]\n",
    "    positive_sigma = [[var, 0], [0, var]]\n",
    "    x1, y1 = np.random.multivariate_normal(positive_center, positive_sigma, nb_points).T\n",
    "\n",
    "    negative_center = [1, 1]\n",
    "    negative_sigma = [[var, 0], [0, var]]\n",
    "    x2, y2 = np.random.multivariate_normal(negative_center, negative_sigma, nb_points).T\n",
    "\n",
    "    positive_center = [1, 0]\n",
    "    positive_sigma = [[var, 0], [0, var]]\n",
    "    x3, y3 = np.random.multivariate_normal(positive_center, positive_sigma, nb_points).T\n",
    "\n",
    "    negative_center = [0, 1]\n",
    "    negative_sigma = [[var, 0], [0, var]]\n",
    "    x4, y4 = np.random.multivariate_normal(negative_center, negative_sigma, nb_points).T\n",
    "\n",
    "    XOR = ls.LabeledSet(2)\n",
    "    for i in range(len(x1)):\n",
    "        XOR.addExample([x1[i], y1[i]], 1)\n",
    "        XOR.addExample([x2[i], y2[i]], 1)\n",
    "    for i in range(len(x3)):\n",
    "        XOR.addExample([x3[i], y3[i]], -1)\n",
    "        XOR.addExample([x4[i], y4[i]], -1)\n",
    "    return XOR\n"
   ]
  },
  {
   "cell_type": "code",
   "execution_count": 298,
   "metadata": {},
   "outputs": [
    {
     "data": {
      "image/png": "[encoded data removed]",
      "text/plain": [
       "<Figure size 432x288 with 1 Axes>"
      ]
     },
     "metadata": {},
     "output_type": "display_data"
    }
   ],
   "source": [
    "xor=createXOR(100,0.01)\n",
    "ut.plot2DSet(xor)"
   ]
  },
  {
   "cell_type": "code",
   "execution_count": 329,
   "metadata": {},
   "outputs": [
    {
     "data": {
      "text/plain": [
       "0.65625"
      ]
     },
     "execution_count": 329,
     "metadata": {},
     "output_type": "execute_result"
    },
    {
     "data": {
      "image/png": "[encoded data removed]",
      "text/plain": [
       "<Figure size 432x288 with 1 Axes>"
      ]
     },
     "metadata": {},
     "output_type": "display_data"
    }
   ],
   "source": [
    "learn_xor=createXOR(100,0.01)\n",
    "test_xor=createXOR(40,0.01)\n",
    "\n",
    "p = ClassfierPerceptron(2, .1)\n",
    "p.train(learn_xor)\n",
    "ut.plot_frontiere(test_xor,p)\n",
    "ut.plot2DSet(test_xor)\n",
    "p.accuracy(test_xor)"
   ]
  },
  {
   "cell_type": "markdown",
   "metadata": {},
   "source": [
    "**Réponses**\n",
    "\n",
    "- Lorsque l'on apprend à un perceptron un dataset de type xor, il n'arrive pas à dessiner la frontière correctement.\n",
    "\n",
    "- Le problème vient du fait que le xor ne peut pas avoir une frontière linéaire, ce qui signifie que 2 dimensions ne lui suffisent pas."
   ]
  },
  {
   "cell_type": "markdown",
   "metadata": {},
   "source": [
    "Kernel Trick\n",
    "--------------"
   ]
  },
  {
   "cell_type": "markdown",
   "metadata": {},
   "source": [
    "Nous allons projeter (manuellement) les données 2D dans un espace de plus grande dimension. Voici un exemple de projection qui transforme un vecteur $(x_1,x_2)$ en un vecteur $(x_1,x_2,1)$"
   ]
  },
  {
   "cell_type": "code",
   "execution_count": 299,
   "metadata": {},
   "outputs": [
    {
     "data": {
      "text/plain": [
       "array([0.74122221, 1.53760846, 1.        ])"
      ]
     },
     "execution_count": 299,
     "metadata": {},
     "output_type": "execute_result"
    }
   ],
   "source": [
    "class KernelBias:\n",
    "    def transform(self,x):\n",
    "        y=np.asarray([x[0],x[1],1])\n",
    "        return y\n",
    "\n",
    "k=KernelBias()\n",
    "k.transform(the_set.getX(1))\n"
   ]
  },
  {
   "cell_type": "markdown",
   "metadata": {},
   "source": [
    "<font color=\"RED\" size=\"+1\">**[Q]**</font> Implémenter la classe ClassifierPerceptronKernel qui prend un Kernel en paramètre, et calcule le perceptron sur la version \"kernélisée\" des données. Tester ce perceptron sur le dataset 1 (2 gaussiennes) et le dataset XOR."
   ]
  },
  {
   "cell_type": "code",
   "execution_count": 317,
   "metadata": {},
   "outputs": [],
   "source": [
    "class ClassifierPerceptronKernel(cl.Classifier):\n",
    "    def __init__(self,dimension_kernel,learning_rate,kernel):\n",
    "        \"\"\" Argument:\n",
    "                - intput_dimension (int) : dimension d'entrée des exemples\n",
    "                - learning_rate :\n",
    "            Hypothèse : input_dimension > 0\n",
    "        \"\"\"\n",
    "        self.dimension_kernel = dimension_kernel\n",
    "        self.learning_rate = learning_rate\n",
    "        self.kernel = kernel\n",
    "        self.w = np.random.rand(dimension_kernel) \n",
    "        \n",
    "    def predict(self,x):\n",
    "        \"\"\" rend la prediction sur x (-1 ou +1)\n",
    "        \"\"\"\n",
    "        z = np.dot(self.kernel.transform(x), self.w)\n",
    "        if z > 0:\n",
    "            return +1\n",
    "        else:\n",
    "            return -1\n",
    "\n",
    "\n",
    "    \n",
    "    def train(self,labeledSet):\n",
    "        \"\"\" Permet d'entrainer le modele sur l'ensemble donné\n",
    "        \"\"\"\n",
    "        for i in range(labeledSet.size()):\n",
    "            if (self.predict(labeledSet.getX(i)) * labeledSet.getY(i) < 0):\n",
    "                self.w = self.w + self.learning_rate * labeledSet.getY(i) * self.kernel.transform(labeledSet.getX(i))\n"
   ]
  },
  {
   "cell_type": "code",
   "execution_count": 347,
   "metadata": {},
   "outputs": [
    {
     "data": {
      "text/plain": [
       "0.9125"
      ]
     },
     "execution_count": 347,
     "metadata": {},
     "output_type": "execute_result"
    },
    {
     "data": {
      "image/png": "[encoded data removed]",
      "text/plain": [
       "<Figure size 432x288 with 1 Axes>"
      ]
     },
     "metadata": {},
     "output_type": "display_data"
    }
   ],
   "source": [
    "\n",
    "learn_set = ut.createGaussianDataset(np.array([1,1]),np.array([[1,0],[0,1]]),np.array([-1,-1]),np.array([[1,0],[0,1]]),100)\n",
    "test_set = ut.createGaussianDataset(np.array([1,1]),np.array([[1,0],[0,1]]),np.array([-1,-1]),np.array([[1,0],[0,1]]), 40)\n",
    "\n",
    "kernel=KernelBias()\n",
    "p = ClassifierPerceptronKernel(3, .1, kernel)\n",
    "p.train(learn_set)\n",
    "ut.plot_frontiere(test_set,p)\n",
    "ut.plot2DSet(test_set)\n",
    "p.accuracy(test_set)"
   ]
  },
  {
   "cell_type": "code",
   "execution_count": 346,
   "metadata": {},
   "outputs": [
    {
     "data": {
      "text/plain": [
       "0.66875"
      ]
     },
     "execution_count": 346,
     "metadata": {},
     "output_type": "execute_result"
    },
    {
     "data": {
      "image/png": "[encoded data removed]",
      "text/plain": [
       "<Figure size 432x288 with 1 Axes>"
      ]
     },
     "metadata": {},
     "output_type": "display_data"
    }
   ],
   "source": [
    "learn_xor=createXOR(100,0.01)\n",
    "test_xor=createXOR(40,0.01)\n",
    "\n",
    "kernel=KernelBias()\n",
    "p = ClassifierPerceptronKernel(3, .001, kernel)\n",
    "\n",
    "p.train(learn_xor)\n",
    "ut.plot_frontiere(test_xor,p)\n",
    "ut.plot2DSet(test_xor)\n",
    "p.accuracy(test_xor)"
   ]
  },
  {
   "cell_type": "code",
   "execution_count": null,
   "metadata": {},
   "outputs": [],
   "source": [
    "# ------------------------ (CORRECTION POUR ENSEIGNANT)\n"
   ]
  },
  {
   "cell_type": "markdown",
   "metadata": {},
   "source": [
    "<font color=\"RED\" size=\"+1\">**[Q]**</font> Implémenter le kernel : $(x_1,x_2) \\rightarrow (1,x_1,x_2,x_1*x_1,x_2*x_2,x_1*x_2)$. Entrainer le perceptron correspondant sur le XOR. Que constatez-vous ? Donnez une explication (explication donnée en cours lors de la prochaine séance)"
   ]
  },
  {
   "cell_type": "code",
   "execution_count": 342,
   "metadata": {},
   "outputs": [
    {
     "data": {
      "text/plain": [
       "0.99375"
      ]
     },
     "execution_count": 342,
     "metadata": {},
     "output_type": "execute_result"
    },
    {
     "data": {
      "image/png": "[encoded data removed]",
      "text/plain": [
       "<Figure size 432x288 with 1 Axes>"
      ]
     },
     "metadata": {},
     "output_type": "display_data"
    }
   ],
   "source": [
    "class KernelPoly:\n",
    "    def transform(self,x):\n",
    "        y = np.asarray([1, x[0], x[1], x[0]*x[0], x[1]*x[1], x[0]*x[1]])\n",
    "        return y\n",
    "\n",
    "N=100\n",
    "k=KernelPoly()\n",
    "\n",
    "##TESTER SUR XOR ET DESSINER LA FRONTIèRE DE DECISION\n",
    "\n",
    "learn_xor=createXOR(100,0.01)\n",
    "test_xor=createXOR(40,0.01)\n",
    "\n",
    "p = ClassifierPerceptronKernel(6,0.001,k)\n",
    "for i in range(N):\n",
    "    p.train(learn_xor)\n",
    "\n",
    "ut.plot_frontiere(test_xor,p, 50)\n",
    "ut.plot2DSet(test_xor)\n",
    "p.accuracy(test_xor)\n"
   ]
  },
  {
   "cell_type": "markdown",
   "metadata": {},
   "source": [
    "**Réponses**\n",
    "\n",
    "- On constate que la frontière est bien dessinnée en élargissant 2 dimensions en 6 dimensions."
   ]
  },
  {
   "cell_type": "markdown",
   "metadata": {},
   "source": [
    "Expérimentations sur des datasets réels\n",
    "-------\n",
    "\n"
   ]
  },
  {
   "cell_type": "markdown",
   "metadata": {
    "collapsed": true
   },
   "source": [
    "A partir de datasets trouvés sur le web, réaliser un ensemble d'expérimentations permettant de comparer les 3 classifiers (knn, perceptron de Rosenblatt et version kernélisée) que vous avez implémentés.\n",
    "\n",
    "Par exemple, vous pouvez utiliser les datasets suivants:\n",
    "- https://archive.ics.uci.edu/ml/datasets/Breast+Cancer+Coimbra\n",
    "- https://www.kaggle.com/uciml/indian-liver-patient-records\n",
    "- voir sur les données ouvertes de Paris : https://opendata.paris.fr/explore/?sort=modified\n",
    "\n",
    "Afin d'utiliser de tels jeux de données, il sera certainement nécessaire que vous réalisiez un prétraitement afin de pouvoir utiliser vos implémentations."
   ]
  },
  {
   "cell_type": "code",
   "execution_count": null,
   "metadata": {},
   "outputs": [],
   "source": []
  }
 ],
 "metadata": {
  "kernelspec": {
   "display_name": "Python 3",
   "language": "python",
   "name": "python3"
  },
  "language_info": {
   "codemirror_mode": {
    "name": "ipython",
    "version": 3
   },
   "file_extension": ".py",
   "mimetype": "text/x-python",
   "name": "python",
   "nbconvert_exporter": "python",
   "pygments_lexer": "ipython3",
   "version": "3.5.3"
  }
 },
 "nbformat": 4,
 "nbformat_minor": 1
}
